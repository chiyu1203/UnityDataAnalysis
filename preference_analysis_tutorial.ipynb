{
 "cells": [
  {
   "cell_type": "markdown",
   "metadata": {},
   "source": [
    "### Session 0.0: introduce libraries, database path and main independent variable"
   ]
  },
  {
   "cell_type": "code",
   "execution_count": 1,
   "metadata": {},
   "outputs": [
    {
     "data": {
      "text/plain": [
       "'\\nif autoreload does not work, try import the python file as a module and then reload the file and the module\\nimport plotting_follow_analysis\\nimport importlib\\nimportlib.reload(plotting_follow_analysis)\\nfrom plotting_follow_analysis import plot_follow_response_distribution'"
      ]
     },
     "execution_count": 1,
     "metadata": {},
     "output_type": "execute_result"
    }
   ],
   "source": [
    "%reload_ext autoreload\n",
    "%autoreload 2\n",
    "'''\n",
    "if autoreload does not work, try import the python file as a module and then reload the file and the module\n",
    "import plotting_follow_analysis\n",
    "import importlib\n",
    "importlib.reload(plotting_follow_analysis)\n",
    "from plotting_follow_analysis import plot_follow_response_distribution'''"
   ]
  },
  {
   "cell_type": "code",
   "execution_count": 2,
   "metadata": {},
   "outputs": [],
   "source": [
    "## a useful function to generate a data list for further analysis\n",
    "import os,json,sys\n",
    "from pathlib import Path\n",
    "import numpy as np\n",
    "import pandas as pd\n",
    "import matplotlib.pyplot as plt\n",
    "import seaborn as sns\n",
    "from scipy import stats\n",
    "from scipy.stats import circmean\n",
    "from sorting_time_series_analysis import follow_behaviour_analysis,calculate_speed,diff_angular_degree,sort_raster_fictrac\n",
    "from preference_analysis import *\n",
    "from time_series_analysis import *\n",
    "from plotting_follow_analysis import plot_follow_response_distribution\n",
    "##need to add this additional cell because useful tools are in another folder. Need to integrate these two folders one day\n",
    "current_working_directory = Path.cwd()\n",
    "parent_dir = current_working_directory.resolve().parents[0]\n",
    "sys.path.insert(0, str(parent_dir) + \"\\\\utilities\")\n",
    "from useful_tools import select_animals_gpt,find_file,get_fill_between_range\n",
    "from data_cleaning import findLongestConseqSubseq,interp_fill"
   ]
  },
  {
   "cell_type": "code",
   "execution_count": 3,
   "metadata": {},
   "outputs": [],
   "source": [
    "json_file = \"./analysis_methods_dictionary.json\"\n",
    "with open(json_file, \"r\") as f:\n",
    "    analysis_methods = json.loads(f.read())\n",
    "    \n",
    "#Put the folder of your Unity folder below\n",
    "#thisDataset =\"D:/MatrexVR_Swarm_Data/RunData\"\n",
    "#thisDataset =\"D:/MatrexVR_blackbackground_Data/RunData\"\n",
    "#thisDataset =\"D:/MatrexVR_grass1_Data/RunData\"\n",
    "thisDataset =\"D:/MatrexVR_2024_Data/RunData\"\n",
    "#parameter name means independent variable in the experiment\n",
    "#variable_name='mu'\n",
    "variable_name='location'\n",
    "#variable_name='agent_speed'\n",
    "#check trace in trial 115 from VR1_2024-11-16_155242_score_full, maybe there is a jump"
   ]
  },
  {
   "cell_type": "code",
   "execution_count": null,
   "metadata": {},
   "outputs": [],
   "source": [
    "# def slices_lists(list1, list2,number,list3=[]):\n",
    "#     list1=list1[:number]\n",
    "#     list2=list2[:number]\n",
    "#     list3=list3[:number]\n",
    "#     return list1, list2, list3\n",
    "# dir_list,vr_no,no_food=slices_lists(dir_list, vr_no, 26, no_food)"
   ]
  },
  {
   "cell_type": "markdown",
   "metadata": {},
   "source": [
    "### Session 1.0: select animals based on condition and return which a directory list and a list of vr rig number to specify which animal to analyse"
   ]
  },
  {
   "cell_type": "code",
   "execution_count": 4,
   "metadata": {},
   "outputs": [],
   "source": [
    "# Define the path to your Excel file\n",
    "dir_list = []\n",
    "file_type=\".h5\"\n",
    "using_google_sheet=True\n",
    "sheet_name = \"Unity_MatrexVR\"\n",
    "experiment_name=analysis_methods.get(\"experiment_name\")\n",
    "if analysis_methods.get(\"load_individual_data\") == True:\n",
    "    if using_google_sheet==True:\n",
    "        database_id = \"1UL4eEUrQMapx9xz11-IyOSlPBcep1I9vBJ2uGgVudb8\"\n",
    "        url = f\"https://docs.google.com/spreadsheets/d/{database_id}/gviz/tq?tqx=out:csv&sheet={sheet_name}\"\n",
    "        df = pd.read_csv(url)\n",
    "    else:\n",
    "        excel_file_path = \"Z:/DATA/experiment_trackball_Optomotor/Locusts Management.xlsx\"\n",
    "        print(f\"using a database {excel_file_path} from the server but this file might be outdated\")\n",
    "        with pd.ExcelFile(excel_file_path) as xls:\n",
    "            df = pd.read_excel(xls, sheet_name)\n",
    "        ##list up the conditions and answers as strings for input argument to select animal. One condition must pair with one answer\n",
    "    if analysis_methods.get(\"select_animals_by_condition\") == True:\n",
    "       #animal_of_interest=select_animals_gpt(df,\"Independent variable (list up all of them in the experiment)\",\"gregarious_leader_grass\",\"Excluding this animal from analysis (Usually when animals die or molt, T/F)\",\"F\")\n",
    "        #animal_of_interest=select_animals_gpt(df,\"Independent variable (list up all of them in the experiment)\",\"gregarious_leader_black\",\"Excluding this animal from analysis (Usually when animals die or molt, T/F)\",\"F\")\n",
    "        #animal_of_interest=select_animals_gpt(df,\"Independent variable (list up all of them in the experiment)\",variable_name)\n",
    "        animal_of_interest=select_animals_gpt(df,\"Independent variable1\",variable_name,\"Independent variable2\",\"bifuration_vr_locust_sta_black_locust\",\"Excluding this animal from analysis (Usually when animals die or molt, T/F)\",\"F\")\n",
    "        #animal_of_interest=select_animals_gpt(df,\"Independent variable1\",variable_name,\"Excluding this animal from analysis (Usually when animals die or molt, T/F)\",\"F\")\n",
    "    else:\n",
    "        animal_of_interest=df\n",
    "    folder_name=animal_of_interest[\"folder name\"].values\n",
    "    dir_tile=np.tile(thisDataset, (len(folder_name), 1))\n",
    "    vr_no=animal_of_interest[\"VR number\"].values\n",
    "    vr_no = vr_no.astype('int')\n",
    "    no_food=animal_of_interest[\"Food retriction (-1 or the number of hours)\"].values\n",
    "    no_food =no_food.astype('int')\n",
    "    dir_list = [''.join([x[0], '/', y]) for x,y in zip(dir_tile,folder_name)]\n",
    "    #dir_dict = itertools.zip_longest(dir_list, vr_no.tolist())\n",
    "    dir_dict = zip(dir_list, vr_no.tolist())\n",
    "else:\n",
    "    for root, dirs, files in os.walk(thisDataset):\n",
    "        for folder in dirs:\n",
    "            folder_path=os.path.join(root,folder)\n",
    "            if any(name.endswith(file_type) for name in os.listdir(folder_path)):\n",
    "                dir_list.append(folder_path.replace(\"\\\\\", \"/\"))"
   ]
  },
  {
   "cell_type": "code",
   "execution_count": null,
   "metadata": {},
   "outputs": [],
   "source": [
    "dir_list[26:60]"
   ]
  },
  {
   "cell_type": "code",
   "execution_count": null,
   "metadata": {},
   "outputs": [],
   "source": [
    "dir_list=dir_list[60:]\n",
    "vr_no=vr_no[60:] \n",
    "no_food=no_food[60:]"
   ]
  },
  {
   "cell_type": "code",
   "execution_count": 5,
   "metadata": {},
   "outputs": [],
   "source": [
    "dir_list=dir_list[:26]\n",
    "vr_no=vr_no[:26] \n",
    "no_food=no_food[:26]"
   ]
  },
  {
   "cell_type": "code",
   "execution_count": null,
   "metadata": {},
   "outputs": [],
   "source": [
    "dir_list=dir_list[26:60]\n",
    "vr_no=vr_no[26:60] \n",
    "no_food=no_food[26:60]"
   ]
  },
  {
   "cell_type": "markdown",
   "metadata": {},
   "source": [
    "#### Session 1.1: introduce helper functions to make plot and calculate speed"
   ]
  },
  {
   "cell_type": "code",
   "execution_count": 7,
   "metadata": {},
   "outputs": [],
   "source": [
    "analysis_methods.update({\"plotting_trajectory\": False})\n",
    "analysis_methods.update({\"save_output\":False})\n",
    "analysis_methods.update({\"analysis_window\":[-5,5]})"
   ]
  },
  {
   "cell_type": "code",
   "execution_count": null,
   "metadata": {},
   "outputs": [],
   "source": [
    "relative_pos_all_animals=[]\n",
    "trial_evaluation_across_animals=[]\n",
    "raster_across_animals_unity=[]\n",
    "raster_across_animals_fictrac=[]\n",
    "animal_id=0\n",
    "for this_dir,this_vr,this_no_food in zip(dir_list,vr_no,no_food):\n",
    "\n",
    "    if Path(this_dir).is_dir()==False:\n",
    "        continue\n",
    "    # if this_vr==4:\n",
    "    #     continue\n",
    "    agent_pattern = f\"VR{this_vr}*agent_full.h5\"\n",
    "    xy_pattern = f\"VR{this_vr}*XY_full.h5\"\n",
    "    summary_pattern = f\"VR{this_vr}*score_full.h5\"\n",
    "    pa_pattern=f\"VR{this_vr}*motion.parquet\"\n",
    "    agent_file = find_file(Path(this_dir), agent_pattern)\n",
    "    pa_file=find_file(Path(this_dir), pa_pattern)\n",
    "    focal_animal_file = find_file(Path(this_dir), xy_pattern)\n",
    "    summary_file = find_file(Path(this_dir), summary_pattern)\n",
    "    relative_pos,trial_evaluation_list,raster_unity,num_unfilled_gap,_=follow_behaviour_analysis(summary_file,focal_animal_file,agent_file,analysis_methods)\n",
    "    raster=pd.read_parquet(pa_file, engine='pyarrow')\n",
    "    if animal_id==0:\n",
    "        largest_unfilled_gap=num_unfilled_gap\n",
    "    elif num_unfilled_gap>largest_unfilled_gap:\n",
    "        largest_unfilled_gap=num_unfilled_gap\n",
    "    else:\n",
    "        pass\n",
    "    relative_pos_all_animals.append(relative_pos)\n",
    "    trial_evaluation=pd.concat(trial_evaluation_list)\n",
    "    trial_evaluation.insert(0, 'VR',np.repeat(this_vr,trial_evaluation.shape[0]))\n",
    "    trial_evaluation.insert(0, 'minimum_starvation_time',np.repeat(this_no_food,trial_evaluation.shape[0]))\n",
    "    trial_evaluation.insert(0, 'animal_id',np.repeat(animal_id,trial_evaluation.shape[0]))\n",
    "    trial_evaluation_across_animals.append(trial_evaluation)\n",
    "    raster.insert(0, 'animal_id', np.repeat(animal_id,raster.shape[0]))\n",
    "    raster_across_animals_fictrac.append(raster)\n",
    "    if \"raster_unity\" in locals():\n",
    "        raster_unity.insert(0, 'animal_id', np.repeat(animal_id,raster_unity.shape[0]))\n",
    "        raster_across_animals_unity.append(raster_unity)\n",
    "    animal_id=animal_id+1\n",
    "if \"largest_unfilled_gap\" in locals():\n",
    "    analysis_methods['largest_unfilled_gap']= largest_unfilled_gap\n",
    "else:\n",
    "    print(\"'largest_unfilled_gap' is not defined. Probably because the wrong folder of database is selected or portable USB is not inserted\")"
   ]
  },
  {
   "cell_type": "code",
   "execution_count": 20,
   "metadata": {},
   "outputs": [
    {
     "data": {
      "text/html": [
       "<div>\n",
       "<style scoped>\n",
       "    .dataframe tbody tr th:only-of-type {\n",
       "        vertical-align: middle;\n",
       "    }\n",
       "\n",
       "    .dataframe tbody tr th {\n",
       "        vertical-align: top;\n",
       "    }\n",
       "\n",
       "    .dataframe thead th {\n",
       "        text-align: right;\n",
       "    }\n",
       "</style>\n",
       "<table border=\"1\" class=\"dataframe\">\n",
       "  <thead>\n",
       "    <tr style=\"text-align: right;\">\n",
       "      <th></th>\n",
       "      <th>x</th>\n",
       "      <th>y</th>\n",
       "      <th>degree</th>\n",
       "      <th>ts</th>\n",
       "      <th>agent_id</th>\n",
       "      <th>type</th>\n",
       "    </tr>\n",
       "  </thead>\n",
       "  <tbody>\n",
       "    <tr>\n",
       "      <th>0</th>\n",
       "      <td>2.706317</td>\n",
       "      <td>-4.166376</td>\n",
       "      <td>0.0</td>\n",
       "      <td>14.183</td>\n",
       "      <td>0</td>\n",
       "      <td>InanimatedLeaderLocust_black</td>\n",
       "    </tr>\n",
       "    <tr>\n",
       "      <th>1</th>\n",
       "      <td>2.636122</td>\n",
       "      <td>-4.147883</td>\n",
       "      <td>0.0</td>\n",
       "      <td>14.201</td>\n",
       "      <td>0</td>\n",
       "      <td>InanimatedLeaderLocust_black</td>\n",
       "    </tr>\n",
       "    <tr>\n",
       "      <th>2</th>\n",
       "      <td>2.567862</td>\n",
       "      <td>-4.130086</td>\n",
       "      <td>0.0</td>\n",
       "      <td>14.219</td>\n",
       "      <td>0</td>\n",
       "      <td>InanimatedLeaderLocust_black</td>\n",
       "    </tr>\n",
       "    <tr>\n",
       "      <th>3</th>\n",
       "      <td>2.986645</td>\n",
       "      <td>-3.924811</td>\n",
       "      <td>0.0</td>\n",
       "      <td>15.501</td>\n",
       "      <td>0</td>\n",
       "      <td>InanimatedLeaderLocust_black</td>\n",
       "    </tr>\n",
       "    <tr>\n",
       "      <th>4</th>\n",
       "      <td>2.964554</td>\n",
       "      <td>-3.933567</td>\n",
       "      <td>0.0</td>\n",
       "      <td>15.516</td>\n",
       "      <td>0</td>\n",
       "      <td>InanimatedLeaderLocust_black</td>\n",
       "    </tr>\n",
       "    <tr>\n",
       "      <th>...</th>\n",
       "      <td>...</td>\n",
       "      <td>...</td>\n",
       "      <td>...</td>\n",
       "      <td>...</td>\n",
       "      <td>...</td>\n",
       "      <td>...</td>\n",
       "    </tr>\n",
       "    <tr>\n",
       "      <th>31</th>\n",
       "      <td>4.413061</td>\n",
       "      <td>0.018516</td>\n",
       "      <td>0.0</td>\n",
       "      <td>9.717</td>\n",
       "      <td>0</td>\n",
       "      <td>LeaderLocust</td>\n",
       "    </tr>\n",
       "    <tr>\n",
       "      <th>32</th>\n",
       "      <td>4.423752</td>\n",
       "      <td>0.018102</td>\n",
       "      <td>0.0</td>\n",
       "      <td>9.734</td>\n",
       "      <td>0</td>\n",
       "      <td>LeaderLocust</td>\n",
       "    </tr>\n",
       "    <tr>\n",
       "      <th>33</th>\n",
       "      <td>4.434460</td>\n",
       "      <td>0.019318</td>\n",
       "      <td>0.0</td>\n",
       "      <td>9.750</td>\n",
       "      <td>0</td>\n",
       "      <td>LeaderLocust</td>\n",
       "    </tr>\n",
       "    <tr>\n",
       "      <th>34</th>\n",
       "      <td>4.448607</td>\n",
       "      <td>0.022989</td>\n",
       "      <td>0.0</td>\n",
       "      <td>9.769</td>\n",
       "      <td>0</td>\n",
       "      <td>LeaderLocust</td>\n",
       "    </tr>\n",
       "    <tr>\n",
       "      <th>35</th>\n",
       "      <td>4.457578</td>\n",
       "      <td>0.026405</td>\n",
       "      <td>0.0</td>\n",
       "      <td>9.784</td>\n",
       "      <td>0</td>\n",
       "      <td>LeaderLocust</td>\n",
       "    </tr>\n",
       "  </tbody>\n",
       "</table>\n",
       "<p>1563 rows × 6 columns</p>\n",
       "</div>"
      ],
      "text/plain": [
       "           x         y  degree      ts  agent_id                          type\n",
       "0   2.706317 -4.166376     0.0  14.183         0  InanimatedLeaderLocust_black\n",
       "1   2.636122 -4.147883     0.0  14.201         0  InanimatedLeaderLocust_black\n",
       "2   2.567862 -4.130086     0.0  14.219         0  InanimatedLeaderLocust_black\n",
       "3   2.986645 -3.924811     0.0  15.501         0  InanimatedLeaderLocust_black\n",
       "4   2.964554 -3.933567     0.0  15.516         0  InanimatedLeaderLocust_black\n",
       "..       ...       ...     ...     ...       ...                           ...\n",
       "31  4.413061  0.018516     0.0   9.717         0                  LeaderLocust\n",
       "32  4.423752  0.018102     0.0   9.734         0                  LeaderLocust\n",
       "33  4.434460  0.019318     0.0   9.750         0                  LeaderLocust\n",
       "34  4.448607  0.022989     0.0   9.769         0                  LeaderLocust\n",
       "35  4.457578  0.026405     0.0   9.784         0                  LeaderLocust\n",
       "\n",
       "[1563 rows x 6 columns]"
      ]
     },
     "execution_count": 20,
     "metadata": {},
     "output_type": "execute_result"
    }
   ],
   "source": [
    "relative_pos"
   ]
  },
  {
   "cell_type": "code",
   "execution_count": 26,
   "metadata": {},
   "outputs": [
    {
     "data": {
      "text/plain": [
       "[Empty DataFrame\n",
       " Columns: [x, y, degree, ts, agent_id, type]\n",
       " Index: [],\n",
       " Empty DataFrame\n",
       " Columns: [x, y, degree, ts, agent_id, type]\n",
       " Index: [],\n",
       " Empty DataFrame\n",
       " Columns: [x, y, degree, ts, agent_id, type]\n",
       " Index: [],\n",
       "            x         y  degree      ts  agent_id  \\\n",
       " 0   2.388451  4.385040     0.0   5.667         1   \n",
       " 1   2.319736  4.378029     0.0   5.683         1   \n",
       " 2   2.255324  4.371209     0.0   5.701         1   \n",
       " 3   2.186351  4.364463     0.0   5.717         1   \n",
       " 4   2.126908  4.358794     0.0   5.736         1   \n",
       " ..       ...       ...     ...     ...       ...   \n",
       " 22  4.254071 -1.316782     0.0  11.051         1   \n",
       " 23  4.253287 -1.320729     0.0  11.067         1   \n",
       " 24  4.255283 -1.325648     0.0  11.083         1   \n",
       " 25  4.263602 -1.329074     0.0  11.101         1   \n",
       " 26  4.275292 -1.331111     0.0  11.117         1   \n",
       " \n",
       "                                            type  \n",
       " 0   LeaderLocust_x_InanimatedLeaderLocust_black  \n",
       " 1   LeaderLocust_x_InanimatedLeaderLocust_black  \n",
       " 2   LeaderLocust_x_InanimatedLeaderLocust_black  \n",
       " 3   LeaderLocust_x_InanimatedLeaderLocust_black  \n",
       " 4   LeaderLocust_x_InanimatedLeaderLocust_black  \n",
       " ..                                          ...  \n",
       " 22                                 LeaderLocust  \n",
       " 23                                 LeaderLocust  \n",
       " 24                                 LeaderLocust  \n",
       " 25                                 LeaderLocust  \n",
       " 26                                 LeaderLocust  \n",
       " \n",
       " [1600 rows x 6 columns],\n",
       "            x         y  degree      ts  agent_id  \\\n",
       " 0   4.814976  1.326250     0.0  16.615         0   \n",
       " 1   4.799988  1.321979     0.0  16.633         0   \n",
       " 2   4.782281  1.314480     0.0  16.649         0   \n",
       " 3   4.765134  1.306272     0.0  16.665         0   \n",
       " 4   4.747489  1.298632     0.0  16.682         0   \n",
       " ..       ...       ...     ...     ...       ...   \n",
       " 72  4.786458 -0.275185     0.0   9.133         1   \n",
       " 73  4.789509 -0.272051     0.0   9.149         1   \n",
       " 74  4.798133 -0.269479     0.0   9.167         1   \n",
       " 75  4.801884 -0.266377     0.0   9.183         1   \n",
       " 76  4.816488 -0.256644     0.0   9.217         1   \n",
       " \n",
       "                                            type  \n",
       " 0   LeaderLocust_x_InanimatedLeaderLocust_black  \n",
       " 1   LeaderLocust_x_InanimatedLeaderLocust_black  \n",
       " 2   LeaderLocust_x_InanimatedLeaderLocust_black  \n",
       " 3   LeaderLocust_x_InanimatedLeaderLocust_black  \n",
       " 4   LeaderLocust_x_InanimatedLeaderLocust_black  \n",
       " ..                                          ...  \n",
       " 72  InanimatedLeaderLocust_black_x_LeaderLocust  \n",
       " 73  InanimatedLeaderLocust_black_x_LeaderLocust  \n",
       " 74  InanimatedLeaderLocust_black_x_LeaderLocust  \n",
       " 75  InanimatedLeaderLocust_black_x_LeaderLocust  \n",
       " 76  InanimatedLeaderLocust_black_x_LeaderLocust  \n",
       " \n",
       " [3700 rows x 6 columns],\n",
       "            x         y  degree      ts  agent_id          type\n",
       " 0   4.532665 -2.065141     0.0  18.564         0  LeaderLocust\n",
       " 1   4.488207 -2.058235     0.0  18.577         0  LeaderLocust\n",
       " 2   4.459845 -2.050268     0.0  18.597         0  LeaderLocust\n",
       " 3   4.423335 -2.042159     0.0  18.612         0  LeaderLocust\n",
       " 4   4.396225 -2.031540     0.0  18.631         0  LeaderLocust\n",
       " ..       ...       ...     ...     ...       ...           ...\n",
       " 53  4.080779  0.893189     0.0   5.649         1  LeaderLocust\n",
       " 54  4.053302  0.888336     0.0   5.666         1  LeaderLocust\n",
       " 55  4.028626  0.882319     0.0   5.683         1  LeaderLocust\n",
       " 56  4.006030  0.876313     0.0   5.700         1  LeaderLocust\n",
       " 57  3.985704  0.867718     0.0   5.716         1  LeaderLocust\n",
       " \n",
       " [2632 rows x 6 columns],\n",
       "             x         y  degree      ts  agent_id  \\\n",
       " 0    4.510216 -1.460190     0.0   6.184         1   \n",
       " 1    4.475157 -1.467389     0.0   6.200         1   \n",
       " 2    4.437853 -1.475527     0.0   6.216         1   \n",
       " 3    4.404653 -1.480843     0.0   6.235         1   \n",
       " 4    4.365983 -1.486556     0.0   6.250         1   \n",
       " ..        ...       ...     ...     ...       ...   \n",
       " 114  1.826146  0.471663     0.0  17.202         0   \n",
       " 115  1.806863  0.468188     0.0  17.218         0   \n",
       " 116  1.791963  0.466397     0.0  17.234         0   \n",
       " 117  1.777967  0.462524     0.0  17.251         0   \n",
       " 118  1.762869  0.455400     0.0  17.268         0   \n",
       " \n",
       "                                             type  \n",
       " 0    InanimatedLeaderLocust_black_x_LeaderLocust  \n",
       " 1    InanimatedLeaderLocust_black_x_LeaderLocust  \n",
       " 2    InanimatedLeaderLocust_black_x_LeaderLocust  \n",
       " 3    InanimatedLeaderLocust_black_x_LeaderLocust  \n",
       " 4    InanimatedLeaderLocust_black_x_LeaderLocust  \n",
       " ..                                           ...  \n",
       " 114                                 LeaderLocust  \n",
       " 115                                 LeaderLocust  \n",
       " 116                                 LeaderLocust  \n",
       " 117                                 LeaderLocust  \n",
       " 118                                 LeaderLocust  \n",
       " \n",
       " [1313 rows x 6 columns],\n",
       "            x         y  degree     ts  agent_id  \\\n",
       " 0   0.291713  2.907757     0.0  1.900         1   \n",
       " 1   0.210195  2.888208     0.0  1.918         1   \n",
       " 2   0.126395  2.871181     0.0  1.933         1   \n",
       " 3   0.045692  2.855512     0.0  1.950         1   \n",
       " 4  -0.036814  2.840863     0.0  1.966         1   \n",
       " ..       ...       ...     ...    ...       ...   \n",
       " 6   3.865550 -1.933874     0.0  6.678         1   \n",
       " 7   3.859874 -1.929466     0.0  6.695         1   \n",
       " 8   4.748448  1.285372     0.0  9.343         1   \n",
       " 9   4.762978  1.284506     0.0  9.362         1   \n",
       " 10  4.772606  1.280840     0.0  9.377         1   \n",
       " \n",
       "                                            type  \n",
       " 0   LeaderLocust_x_InanimatedLeaderLocust_black  \n",
       " 1   LeaderLocust_x_InanimatedLeaderLocust_black  \n",
       " 2   LeaderLocust_x_InanimatedLeaderLocust_black  \n",
       " 3   LeaderLocust_x_InanimatedLeaderLocust_black  \n",
       " 4   LeaderLocust_x_InanimatedLeaderLocust_black  \n",
       " ..                                          ...  \n",
       " 6   InanimatedLeaderLocust_black_x_LeaderLocust  \n",
       " 7   InanimatedLeaderLocust_black_x_LeaderLocust  \n",
       " 8   InanimatedLeaderLocust_black_x_LeaderLocust  \n",
       " 9   InanimatedLeaderLocust_black_x_LeaderLocust  \n",
       " 10  InanimatedLeaderLocust_black_x_LeaderLocust  \n",
       " \n",
       " [72 rows x 6 columns],\n",
       "             x         y  degree      ts  agent_id  \\\n",
       " 0    3.522092  3.511615     0.0  38.649         1   \n",
       " 1    3.487787  3.508679     0.0  38.666         1   \n",
       " 2    3.453652  3.505372     0.0  38.683         1   \n",
       " 3    3.420762  3.501561     0.0  38.700         1   \n",
       " 4    3.384200  3.495112     0.0  38.716         1   \n",
       " ..        ...       ...     ...     ...       ...   \n",
       " 417  3.985188 -0.278101     0.0  53.095         1   \n",
       " 418  3.976634 -0.283109     0.0  53.110         1   \n",
       " 419  3.977660 -0.287567     0.0  53.128         1   \n",
       " 420  4.003347 -0.308370     0.0  53.195         1   \n",
       " 421  4.013132 -0.311350     0.0  53.210         1   \n",
       " \n",
       "                                             type  \n",
       " 0    InanimatedLeaderLocust_black_x_LeaderLocust  \n",
       " 1    InanimatedLeaderLocust_black_x_LeaderLocust  \n",
       " 2    InanimatedLeaderLocust_black_x_LeaderLocust  \n",
       " 3    InanimatedLeaderLocust_black_x_LeaderLocust  \n",
       " 4    InanimatedLeaderLocust_black_x_LeaderLocust  \n",
       " ..                                           ...  \n",
       " 417  InanimatedLeaderLocust_black_x_LeaderLocust  \n",
       " 418  InanimatedLeaderLocust_black_x_LeaderLocust  \n",
       " 419  InanimatedLeaderLocust_black_x_LeaderLocust  \n",
       " 420  InanimatedLeaderLocust_black_x_LeaderLocust  \n",
       " 421  InanimatedLeaderLocust_black_x_LeaderLocust  \n",
       " \n",
       " [2867 rows x 6 columns],\n",
       "             x         y  degree      ts  agent_id  \\\n",
       " 0    4.890861  0.800163     0.0  16.783         1   \n",
       " 1    4.849810  0.804384     0.0  16.800         1   \n",
       " 2    4.813486  0.808701     0.0  16.817         1   \n",
       " 3    4.777656  0.811468     0.0  16.834         1   \n",
       " 4    4.748910  0.812489     0.0  16.854         1   \n",
       " ..        ...       ...     ...     ...       ...   \n",
       " 151  3.456606 -0.673995     0.0  46.495         1   \n",
       " 152  3.452635 -0.676243     0.0  46.511         1   \n",
       " 153  3.450340 -0.678815     0.0  46.529         1   \n",
       " 154  3.445125 -0.683374     0.0  46.545         1   \n",
       " 155  3.443428 -0.688017     0.0  46.562         1   \n",
       " \n",
       "                                             type  \n",
       " 0    InanimatedLeaderLocust_black_x_LeaderLocust  \n",
       " 1    InanimatedLeaderLocust_black_x_LeaderLocust  \n",
       " 2    InanimatedLeaderLocust_black_x_LeaderLocust  \n",
       " 3    InanimatedLeaderLocust_black_x_LeaderLocust  \n",
       " 4    InanimatedLeaderLocust_black_x_LeaderLocust  \n",
       " ..                                           ...  \n",
       " 151  InanimatedLeaderLocust_black_x_LeaderLocust  \n",
       " 152  InanimatedLeaderLocust_black_x_LeaderLocust  \n",
       " 153  InanimatedLeaderLocust_black_x_LeaderLocust  \n",
       " 154  InanimatedLeaderLocust_black_x_LeaderLocust  \n",
       " 155  InanimatedLeaderLocust_black_x_LeaderLocust  \n",
       " \n",
       " [1914 rows x 6 columns],\n",
       "             x         y  degree     ts  agent_id  \\\n",
       " 0    2.861827  4.098140     0.0  6.483         1   \n",
       " 1    2.837027  4.093366     0.0  6.500         1   \n",
       " 2    2.809796  4.086802     0.0  6.517         1   \n",
       " 3    2.783617  4.084910     0.0  6.536         1   \n",
       " 4    2.752391  4.082170     0.0  6.552         1   \n",
       " ..        ...       ...     ...    ...       ...   \n",
       " 149  4.681122 -0.400217     0.0  9.582         1   \n",
       " 150  4.697281 -0.402253     0.0  9.599         1   \n",
       " 151  4.750084 -0.402345     0.0  9.649         1   \n",
       " 152  4.786007 -0.405961     0.0  9.683         1   \n",
       " 153  4.800901 -0.408082     0.0  9.699         1   \n",
       " \n",
       "                                             type  \n",
       " 0    InanimatedLeaderLocust_black_x_LeaderLocust  \n",
       " 1    InanimatedLeaderLocust_black_x_LeaderLocust  \n",
       " 2    InanimatedLeaderLocust_black_x_LeaderLocust  \n",
       " 3    InanimatedLeaderLocust_black_x_LeaderLocust  \n",
       " 4    InanimatedLeaderLocust_black_x_LeaderLocust  \n",
       " ..                                           ...  \n",
       " 149  LeaderLocust_x_InanimatedLeaderLocust_black  \n",
       " 150  LeaderLocust_x_InanimatedLeaderLocust_black  \n",
       " 151  LeaderLocust_x_InanimatedLeaderLocust_black  \n",
       " 152  LeaderLocust_x_InanimatedLeaderLocust_black  \n",
       " 153  LeaderLocust_x_InanimatedLeaderLocust_black  \n",
       " \n",
       " [1181 rows x 6 columns],\n",
       "             x         y  degree      ts  agent_id  \\\n",
       " 0    4.741385 -1.511005     0.0  22.167         0   \n",
       " 1    4.726979 -1.518895     0.0  22.184         0   \n",
       " 2    4.712563 -1.524574     0.0  22.201         0   \n",
       " 3    4.696669 -1.530694     0.0  22.217         0   \n",
       " 4    4.682294 -1.537166     0.0  22.233         0   \n",
       " ..        ...       ...     ...     ...       ...   \n",
       " 405  3.425547  1.554955     0.0  30.836         1   \n",
       " 406  3.416863  1.549731     0.0  30.850         1   \n",
       " 407  3.409544  1.544402     0.0  30.867         1   \n",
       " 408  3.400443  1.538123     0.0  30.883         1   \n",
       " 409  3.392392  1.530712     0.0  30.903         1   \n",
       " \n",
       "                                             type  \n",
       " 0    LeaderLocust_x_InanimatedLeaderLocust_black  \n",
       " 1    LeaderLocust_x_InanimatedLeaderLocust_black  \n",
       " 2    LeaderLocust_x_InanimatedLeaderLocust_black  \n",
       " 3    LeaderLocust_x_InanimatedLeaderLocust_black  \n",
       " 4    LeaderLocust_x_InanimatedLeaderLocust_black  \n",
       " ..                                           ...  \n",
       " 405                 InanimatedLeaderLocust_black  \n",
       " 406                 InanimatedLeaderLocust_black  \n",
       " 407                 InanimatedLeaderLocust_black  \n",
       " 408                 InanimatedLeaderLocust_black  \n",
       " 409                 InanimatedLeaderLocust_black  \n",
       " \n",
       " [3333 rows x 6 columns],\n",
       "            x         y  degree      ts  agent_id  \\\n",
       " 0   4.175655  0.352098     0.0   4.150         0   \n",
       " 1   4.173939  0.352972     0.0   4.166         0   \n",
       " 2   4.174076  0.352605     0.0   4.183         0   \n",
       " 3   4.174611  0.349058     0.0   4.199         0   \n",
       " 4   3.141925  1.168248     0.0   7.400         0   \n",
       " ..       ...       ...     ...     ...       ...   \n",
       " 7  -1.107888  1.854352     0.0  17.200         1   \n",
       " 8  -1.142042  1.829296     0.0  17.250         1   \n",
       " 9  -1.154377  1.822374     0.0  17.267         1   \n",
       " 10 -1.168267  1.815184     0.0  17.284         1   \n",
       " 11 -1.203149  1.797660     0.0  17.317         1   \n",
       " \n",
       "                                            type  \n",
       " 0                                  LeaderLocust  \n",
       " 1                                  LeaderLocust  \n",
       " 2                                  LeaderLocust  \n",
       " 3                                  LeaderLocust  \n",
       " 4                                  LeaderLocust  \n",
       " ..                                          ...  \n",
       " 7   LeaderLocust_x_InanimatedLeaderLocust_black  \n",
       " 8   LeaderLocust_x_InanimatedLeaderLocust_black  \n",
       " 9   LeaderLocust_x_InanimatedLeaderLocust_black  \n",
       " 10  LeaderLocust_x_InanimatedLeaderLocust_black  \n",
       " 11  LeaderLocust_x_InanimatedLeaderLocust_black  \n",
       " \n",
       " [4803 rows x 6 columns],\n",
       " Empty DataFrame\n",
       " Columns: [x, y, degree, ts, agent_id, type]\n",
       " Index: [],\n",
       " Empty DataFrame\n",
       " Columns: [x, y, degree, ts, agent_id, type]\n",
       " Index: [],\n",
       "            x         y  degree      ts  agent_id  \\\n",
       " 0   1.897920 -4.265160     0.0  31.083         0   \n",
       " 1   1.906574 -4.267655     0.0  31.099         0   \n",
       " 2   1.921115 -4.268272     0.0  31.117         0   \n",
       " 3   1.936513 -4.268837     0.0  31.133         0   \n",
       " 4   0.190346 -4.842357     0.0  39.035         0   \n",
       " ..       ...       ...     ...     ...       ...   \n",
       " 20  1.462157  4.202036     0.0   8.415         1   \n",
       " 21  1.455401  4.204478     0.0   8.432         1   \n",
       " 22  1.448809  4.209192     0.0   8.448         1   \n",
       " 23  1.443929  4.214438     0.0   8.465         1   \n",
       " 24  1.441376  4.220134     0.0   8.481         1   \n",
       " \n",
       "                                            type  \n",
       " 0   InanimatedLeaderLocust_black_x_LeaderLocust  \n",
       " 1   InanimatedLeaderLocust_black_x_LeaderLocust  \n",
       " 2   InanimatedLeaderLocust_black_x_LeaderLocust  \n",
       " 3   InanimatedLeaderLocust_black_x_LeaderLocust  \n",
       " 4   InanimatedLeaderLocust_black_x_LeaderLocust  \n",
       " ..                                          ...  \n",
       " 20  InanimatedLeaderLocust_black_x_LeaderLocust  \n",
       " 21  InanimatedLeaderLocust_black_x_LeaderLocust  \n",
       " 22  InanimatedLeaderLocust_black_x_LeaderLocust  \n",
       " 23  InanimatedLeaderLocust_black_x_LeaderLocust  \n",
       " 24  InanimatedLeaderLocust_black_x_LeaderLocust  \n",
       " \n",
       " [2387 rows x 6 columns],\n",
       "            x         y  degree     ts  agent_id  \\\n",
       " 0   3.209644  3.088841     0.0  3.600         1   \n",
       " 1   3.180737  3.083226     0.0  3.617         1   \n",
       " 2   3.150846  3.075199     0.0  3.634         1   \n",
       " 3   3.117362  3.065249     0.0  3.650         1   \n",
       " 4   3.088016  3.058554     0.0  3.666         1   \n",
       " ..       ...       ...     ...    ...       ...   \n",
       " 8   4.074098  1.955421     0.0  6.882         0   \n",
       " 9   4.068555  1.950664     0.0  6.900         0   \n",
       " 10  4.060974  1.944795     0.0  6.916         0   \n",
       " 11  4.059936  1.939055     0.0  6.934         0   \n",
       " 12  4.128921  1.872435     0.0  7.082         0   \n",
       " \n",
       "                                            type  \n",
       " 0   LeaderLocust_x_InanimatedLeaderLocust_black  \n",
       " 1   LeaderLocust_x_InanimatedLeaderLocust_black  \n",
       " 2   LeaderLocust_x_InanimatedLeaderLocust_black  \n",
       " 3   LeaderLocust_x_InanimatedLeaderLocust_black  \n",
       " 4   LeaderLocust_x_InanimatedLeaderLocust_black  \n",
       " ..                                          ...  \n",
       " 8                                  LeaderLocust  \n",
       " 9                                  LeaderLocust  \n",
       " 10                                 LeaderLocust  \n",
       " 11                                 LeaderLocust  \n",
       " 12                                 LeaderLocust  \n",
       " \n",
       " [655 rows x 6 columns],\n",
       "            x         y  degree      ts  agent_id                          type\n",
       " 0   2.293065 -2.565950     0.0  22.050         0  InanimatedLeaderLocust_black\n",
       " 1   2.301496 -2.562686     0.0  22.067         0  InanimatedLeaderLocust_black\n",
       " 2   2.310201 -2.558831     0.0  22.085         0  InanimatedLeaderLocust_black\n",
       " 3   2.311616 -2.554617     0.0  22.100         0  InanimatedLeaderLocust_black\n",
       " 4   2.313512 -2.552140     0.0  22.116         0  InanimatedLeaderLocust_black\n",
       " ..       ...       ...     ...     ...       ...                           ...\n",
       " 93 -0.840452 -2.242354     0.0   7.050         0  InanimatedLeaderLocust_black\n",
       " 94 -0.534723 -2.341703     0.0   7.335         0  InanimatedLeaderLocust_black\n",
       " 95 -0.521538 -2.343685     0.0   7.351         0  InanimatedLeaderLocust_black\n",
       " 96 -0.458350 -2.356075     0.0   7.418         0  InanimatedLeaderLocust_black\n",
       " 97 -0.426452 -2.359841     0.0   7.450         0  InanimatedLeaderLocust_black\n",
       " \n",
       " [703 rows x 6 columns],\n",
       "            x         y  degree      ts  agent_id  \\\n",
       " 0  -2.008652 -1.218029     0.0   4.897         0   \n",
       " 1   2.421094 -1.659335     0.0  12.880         0   \n",
       " 2   2.399254 -1.649367     0.0  12.898         0   \n",
       " 3   2.377699 -1.639932     0.0  12.917         0   \n",
       " 4   2.346449 -1.630166     0.0  12.930         0   \n",
       " ..       ...       ...     ...     ...       ...   \n",
       " 42  4.434313  0.337391     0.0   8.950         0   \n",
       " 43  4.412622  0.334153     0.0   8.967         0   \n",
       " 44  4.393439  0.330437     0.0   8.986         0   \n",
       " 45  4.370745  0.324542     0.0   9.001         0   \n",
       " 46  4.353394  0.316164     0.0   9.017         0   \n",
       " \n",
       "                                            type  \n",
       " 0                  InanimatedLeaderLocust_black  \n",
       " 1                  InanimatedLeaderLocust_black  \n",
       " 2                  InanimatedLeaderLocust_black  \n",
       " 3                  InanimatedLeaderLocust_black  \n",
       " 4                  InanimatedLeaderLocust_black  \n",
       " ..                                          ...  \n",
       " 42  LeaderLocust_x_InanimatedLeaderLocust_black  \n",
       " 43  LeaderLocust_x_InanimatedLeaderLocust_black  \n",
       " 44  LeaderLocust_x_InanimatedLeaderLocust_black  \n",
       " 45  LeaderLocust_x_InanimatedLeaderLocust_black  \n",
       " 46  LeaderLocust_x_InanimatedLeaderLocust_black  \n",
       " \n",
       " [1276 rows x 6 columns],\n",
       "            x         y  degree     ts  agent_id  \\\n",
       " 0   1.207071 -2.028085     0.0  2.747         0   \n",
       " 1   1.161080 -1.927777     0.0  2.947         0   \n",
       " 2   1.160572 -1.921627     0.0  2.964         0   \n",
       " 3   0.990221 -1.541454     0.0  3.584         0   \n",
       " 0   3.660759 -2.370995     0.0  1.817         0   \n",
       " ..       ...       ...     ...    ...       ...   \n",
       " 71  1.005934 -3.421820     0.0  3.484         0   \n",
       " 72  1.011805 -3.417481     0.0  3.503         0   \n",
       " 73  1.015251 -3.413389     0.0  3.517         0   \n",
       " 74  1.024427 -3.409572     0.0  3.535         0   \n",
       " 75  1.043502 -3.401360     0.0  3.567         0   \n",
       " \n",
       "                                            type  \n",
       " 0                  InanimatedLeaderLocust_black  \n",
       " 1                  InanimatedLeaderLocust_black  \n",
       " 2                  InanimatedLeaderLocust_black  \n",
       " 3                  InanimatedLeaderLocust_black  \n",
       " 0                  InanimatedLeaderLocust_black  \n",
       " ..                                          ...  \n",
       " 71  InanimatedLeaderLocust_black_x_LeaderLocust  \n",
       " 72  InanimatedLeaderLocust_black_x_LeaderLocust  \n",
       " 73  InanimatedLeaderLocust_black_x_LeaderLocust  \n",
       " 74  InanimatedLeaderLocust_black_x_LeaderLocust  \n",
       " 75  InanimatedLeaderLocust_black_x_LeaderLocust  \n",
       " \n",
       " [861 rows x 6 columns],\n",
       "            x         y  degree     ts  agent_id                          type\n",
       " 0   4.023357  2.939061     0.0  5.351         1  InanimatedLeaderLocust_black\n",
       " 1   3.990177  2.950239     0.0  5.367         1  InanimatedLeaderLocust_black\n",
       " 2   3.958838  2.961849     0.0  5.384         1  InanimatedLeaderLocust_black\n",
       " 3   3.921493  2.972490     0.0  5.399         1  InanimatedLeaderLocust_black\n",
       " 4   3.889157  2.983175     0.0  5.417         1  InanimatedLeaderLocust_black\n",
       " ..       ...       ...     ...    ...       ...                           ...\n",
       " 29  0.197306  2.484836     0.0  3.182         1  InanimatedLeaderLocust_black\n",
       " 30  0.175005  2.474840     0.0  3.201         1  InanimatedLeaderLocust_black\n",
       " 31  0.147716  2.465455     0.0  3.217         1  InanimatedLeaderLocust_black\n",
       " 32  0.120823  2.456707     0.0  3.233         1  InanimatedLeaderLocust_black\n",
       " 33  0.099949  2.447020     0.0  3.250         1  InanimatedLeaderLocust_black\n",
       " \n",
       " [182 rows x 6 columns],\n",
       "            x         y  degree      ts  agent_id  \\\n",
       " 0   0.923594 -4.912602     0.0   2.414         0   \n",
       " 1   0.876980 -4.911839     0.0   2.433         0   \n",
       " 2   0.819979 -4.911208     0.0   2.447         0   \n",
       " 3   0.777078 -4.911262     0.0   2.467         0   \n",
       " 4   0.723998 -4.912546     0.0   2.480         0   \n",
       " ..       ...       ...     ...     ...       ...   \n",
       " 0   0.387810 -4.959865     0.0  27.962         1   \n",
       " 1   0.282864 -4.939706     0.0  27.979         1   \n",
       " 2   0.177010 -4.919275     0.0  27.996         1   \n",
       " 3   0.067180 -4.896119     0.0  28.013         1   \n",
       " 4  -0.143777 -4.846799     0.0  28.047         1   \n",
       " \n",
       "                                            type  \n",
       " 0   LeaderLocust_x_InanimatedLeaderLocust_black  \n",
       " 1   LeaderLocust_x_InanimatedLeaderLocust_black  \n",
       " 2   LeaderLocust_x_InanimatedLeaderLocust_black  \n",
       " 3   LeaderLocust_x_InanimatedLeaderLocust_black  \n",
       " 4   LeaderLocust_x_InanimatedLeaderLocust_black  \n",
       " ..                                          ...  \n",
       " 0   LeaderLocust_x_InanimatedLeaderLocust_black  \n",
       " 1   LeaderLocust_x_InanimatedLeaderLocust_black  \n",
       " 2   LeaderLocust_x_InanimatedLeaderLocust_black  \n",
       " 3   LeaderLocust_x_InanimatedLeaderLocust_black  \n",
       " 4   LeaderLocust_x_InanimatedLeaderLocust_black  \n",
       " \n",
       " [296 rows x 6 columns],\n",
       "             x         y  degree      ts  agent_id  \\\n",
       " 0    2.992383 -3.986940     0.0   3.982         0   \n",
       " 1    2.957292 -3.976147     0.0   4.000         0   \n",
       " 2    2.886432 -3.952006     0.0   4.037         0   \n",
       " 3    2.838386 -3.940105     0.0   4.049         0   \n",
       " 4    2.797776 -3.927535     0.0   4.065         0   \n",
       " ..        ...       ...     ...     ...       ...   \n",
       " 547 -1.375049 -1.069418     0.0  51.185         0   \n",
       " 548 -1.382080 -1.066497     0.0  51.200         0   \n",
       " 549 -1.389619 -1.061453     0.0  51.217         0   \n",
       " 550 -1.399732 -1.057154     0.0  51.233         0   \n",
       " 551 -1.411219 -1.050527     0.0  51.250         0   \n",
       " \n",
       "                              type  \n",
       " 0    InanimatedLeaderLocust_black  \n",
       " 1    InanimatedLeaderLocust_black  \n",
       " 2    InanimatedLeaderLocust_black  \n",
       " 3    InanimatedLeaderLocust_black  \n",
       " 4    InanimatedLeaderLocust_black  \n",
       " ..                            ...  \n",
       " 547  InanimatedLeaderLocust_black  \n",
       " 548  InanimatedLeaderLocust_black  \n",
       " 549  InanimatedLeaderLocust_black  \n",
       " 550  InanimatedLeaderLocust_black  \n",
       " 551  InanimatedLeaderLocust_black  \n",
       " \n",
       " [6040 rows x 6 columns],\n",
       " Empty DataFrame\n",
       " Columns: [x, y, degree, ts, agent_id, type]\n",
       " Index: [],\n",
       "             x         y  degree      ts  agent_id  \\\n",
       " 0    1.350880  4.791369     0.0   1.065         1   \n",
       " 1    1.255898  4.790819     0.0   1.082         1   \n",
       " 2    1.162903  4.792266     0.0   1.100         1   \n",
       " 3    1.066096  4.793901     0.0   1.117         1   \n",
       " 4    0.973194  4.797177     0.0   1.135         1   \n",
       " ..        ...       ...     ...     ...       ...   \n",
       " 124 -0.480419 -1.601507     0.0  10.217         0   \n",
       " 125 -0.221414 -1.998561     0.0  10.570         0   \n",
       " 126 -0.228489 -1.999536     0.0  10.585         0   \n",
       " 127 -0.233929 -1.997634     0.0  10.602         0   \n",
       " 128 -0.243532 -1.991189     0.0  10.618         0   \n",
       " \n",
       "                                             type  \n",
       " 0    LeaderLocust_x_InanimatedLeaderLocust_black  \n",
       " 1    LeaderLocust_x_InanimatedLeaderLocust_black  \n",
       " 2    LeaderLocust_x_InanimatedLeaderLocust_black  \n",
       " 3    LeaderLocust_x_InanimatedLeaderLocust_black  \n",
       " 4    LeaderLocust_x_InanimatedLeaderLocust_black  \n",
       " ..                                           ...  \n",
       " 124                                 LeaderLocust  \n",
       " 125                                 LeaderLocust  \n",
       " 126                                 LeaderLocust  \n",
       " 127                                 LeaderLocust  \n",
       " 128                                 LeaderLocust  \n",
       " \n",
       " [917 rows x 6 columns],\n",
       "            x         y  degree      ts  agent_id                          type\n",
       " 0   2.706317 -4.166376     0.0  14.183         0  InanimatedLeaderLocust_black\n",
       " 1   2.636122 -4.147883     0.0  14.201         0  InanimatedLeaderLocust_black\n",
       " 2   2.567862 -4.130086     0.0  14.219         0  InanimatedLeaderLocust_black\n",
       " 3   2.986645 -3.924811     0.0  15.501         0  InanimatedLeaderLocust_black\n",
       " 4   2.964554 -3.933567     0.0  15.516         0  InanimatedLeaderLocust_black\n",
       " ..       ...       ...     ...     ...       ...                           ...\n",
       " 31  4.413061  0.018516     0.0   9.717         0                  LeaderLocust\n",
       " 32  4.423752  0.018102     0.0   9.734         0                  LeaderLocust\n",
       " 33  4.434460  0.019318     0.0   9.750         0                  LeaderLocust\n",
       " 34  4.448607  0.022989     0.0   9.769         0                  LeaderLocust\n",
       " 35  4.457578  0.026405     0.0   9.784         0                  LeaderLocust\n",
       " \n",
       " [1563 rows x 6 columns]]"
      ]
     },
     "execution_count": 26,
     "metadata": {},
     "output_type": "execute_result"
    }
   ],
   "source": [
    "relative_pos_all_animals"
   ]
  },
  {
   "cell_type": "code",
   "execution_count": 27,
   "metadata": {},
   "outputs": [],
   "source": [
    "relative_pos_all_pd=pd.concat(relative_pos_all_animals,ignore_index=True)"
   ]
  },
  {
   "cell_type": "code",
   "execution_count": 28,
   "metadata": {},
   "outputs": [
    {
     "data": {
      "text/html": [
       "<div>\n",
       "<style scoped>\n",
       "    .dataframe tbody tr th:only-of-type {\n",
       "        vertical-align: middle;\n",
       "    }\n",
       "\n",
       "    .dataframe tbody tr th {\n",
       "        vertical-align: top;\n",
       "    }\n",
       "\n",
       "    .dataframe thead th {\n",
       "        text-align: right;\n",
       "    }\n",
       "</style>\n",
       "<table border=\"1\" class=\"dataframe\">\n",
       "  <thead>\n",
       "    <tr style=\"text-align: right;\">\n",
       "      <th></th>\n",
       "      <th>x</th>\n",
       "      <th>y</th>\n",
       "      <th>degree</th>\n",
       "      <th>ts</th>\n",
       "      <th>agent_id</th>\n",
       "      <th>type</th>\n",
       "    </tr>\n",
       "  </thead>\n",
       "  <tbody>\n",
       "    <tr>\n",
       "      <th>0</th>\n",
       "      <td>2.388451</td>\n",
       "      <td>4.385040</td>\n",
       "      <td>0.0</td>\n",
       "      <td>5.667</td>\n",
       "      <td>1</td>\n",
       "      <td>LeaderLocust_x_InanimatedLeaderLocust_black</td>\n",
       "    </tr>\n",
       "    <tr>\n",
       "      <th>1</th>\n",
       "      <td>2.319736</td>\n",
       "      <td>4.378029</td>\n",
       "      <td>0.0</td>\n",
       "      <td>5.683</td>\n",
       "      <td>1</td>\n",
       "      <td>LeaderLocust_x_InanimatedLeaderLocust_black</td>\n",
       "    </tr>\n",
       "    <tr>\n",
       "      <th>2</th>\n",
       "      <td>2.255324</td>\n",
       "      <td>4.371209</td>\n",
       "      <td>0.0</td>\n",
       "      <td>5.701</td>\n",
       "      <td>1</td>\n",
       "      <td>LeaderLocust_x_InanimatedLeaderLocust_black</td>\n",
       "    </tr>\n",
       "    <tr>\n",
       "      <th>3</th>\n",
       "      <td>2.186351</td>\n",
       "      <td>4.364463</td>\n",
       "      <td>0.0</td>\n",
       "      <td>5.717</td>\n",
       "      <td>1</td>\n",
       "      <td>LeaderLocust_x_InanimatedLeaderLocust_black</td>\n",
       "    </tr>\n",
       "    <tr>\n",
       "      <th>4</th>\n",
       "      <td>2.126908</td>\n",
       "      <td>4.358794</td>\n",
       "      <td>0.0</td>\n",
       "      <td>5.736</td>\n",
       "      <td>1</td>\n",
       "      <td>LeaderLocust_x_InanimatedLeaderLocust_black</td>\n",
       "    </tr>\n",
       "    <tr>\n",
       "      <th>...</th>\n",
       "      <td>...</td>\n",
       "      <td>...</td>\n",
       "      <td>...</td>\n",
       "      <td>...</td>\n",
       "      <td>...</td>\n",
       "      <td>...</td>\n",
       "    </tr>\n",
       "    <tr>\n",
       "      <th>38290</th>\n",
       "      <td>4.413061</td>\n",
       "      <td>0.018516</td>\n",
       "      <td>0.0</td>\n",
       "      <td>9.717</td>\n",
       "      <td>0</td>\n",
       "      <td>LeaderLocust</td>\n",
       "    </tr>\n",
       "    <tr>\n",
       "      <th>38291</th>\n",
       "      <td>4.423752</td>\n",
       "      <td>0.018102</td>\n",
       "      <td>0.0</td>\n",
       "      <td>9.734</td>\n",
       "      <td>0</td>\n",
       "      <td>LeaderLocust</td>\n",
       "    </tr>\n",
       "    <tr>\n",
       "      <th>38292</th>\n",
       "      <td>4.434460</td>\n",
       "      <td>0.019318</td>\n",
       "      <td>0.0</td>\n",
       "      <td>9.750</td>\n",
       "      <td>0</td>\n",
       "      <td>LeaderLocust</td>\n",
       "    </tr>\n",
       "    <tr>\n",
       "      <th>38293</th>\n",
       "      <td>4.448607</td>\n",
       "      <td>0.022989</td>\n",
       "      <td>0.0</td>\n",
       "      <td>9.769</td>\n",
       "      <td>0</td>\n",
       "      <td>LeaderLocust</td>\n",
       "    </tr>\n",
       "    <tr>\n",
       "      <th>38294</th>\n",
       "      <td>4.457578</td>\n",
       "      <td>0.026405</td>\n",
       "      <td>0.0</td>\n",
       "      <td>9.784</td>\n",
       "      <td>0</td>\n",
       "      <td>LeaderLocust</td>\n",
       "    </tr>\n",
       "  </tbody>\n",
       "</table>\n",
       "<p>38295 rows × 6 columns</p>\n",
       "</div>"
      ],
      "text/plain": [
       "              x         y  degree     ts  agent_id  \\\n",
       "0      2.388451  4.385040     0.0  5.667         1   \n",
       "1      2.319736  4.378029     0.0  5.683         1   \n",
       "2      2.255324  4.371209     0.0  5.701         1   \n",
       "3      2.186351  4.364463     0.0  5.717         1   \n",
       "4      2.126908  4.358794     0.0  5.736         1   \n",
       "...         ...       ...     ...    ...       ...   \n",
       "38290  4.413061  0.018516     0.0  9.717         0   \n",
       "38291  4.423752  0.018102     0.0  9.734         0   \n",
       "38292  4.434460  0.019318     0.0  9.750         0   \n",
       "38293  4.448607  0.022989     0.0  9.769         0   \n",
       "38294  4.457578  0.026405     0.0  9.784         0   \n",
       "\n",
       "                                              type  \n",
       "0      LeaderLocust_x_InanimatedLeaderLocust_black  \n",
       "1      LeaderLocust_x_InanimatedLeaderLocust_black  \n",
       "2      LeaderLocust_x_InanimatedLeaderLocust_black  \n",
       "3      LeaderLocust_x_InanimatedLeaderLocust_black  \n",
       "4      LeaderLocust_x_InanimatedLeaderLocust_black  \n",
       "...                                            ...  \n",
       "38290                                 LeaderLocust  \n",
       "38291                                 LeaderLocust  \n",
       "38292                                 LeaderLocust  \n",
       "38293                                 LeaderLocust  \n",
       "38294                                 LeaderLocust  \n",
       "\n",
       "[38295 rows x 6 columns]"
      ]
     },
     "execution_count": 28,
     "metadata": {},
     "output_type": "execute_result"
    }
   ],
   "source": [
    "relative_pos_all_pd"
   ]
  },
  {
   "cell_type": "markdown",
   "metadata": {},
   "source": [
    "### Session 2.0: quantify relative preference"
   ]
  },
  {
   "cell_type": "markdown",
   "metadata": {},
   "source": [
    "#### Session 2.1 calculate relative distance to narrow down the definition of follow choices in this assay"
   ]
  },
  {
   "cell_type": "code",
   "execution_count": 29,
   "metadata": {},
   "outputs": [],
   "source": [
    "## calculating the relative distance between the focal animal and other agents in every frame\n",
    "relative_pos_all_pd=pd.concat(relative_pos_all_animals,ignore_index=True)\n",
    "relative_pos_all_pd['distance']=relative_pos_all_pd.apply(lambda row:np.sqrt(np.square(row['x']) + np.square(row['y'])), axis=1)"
   ]
  },
  {
   "cell_type": "code",
   "execution_count": 30,
   "metadata": {},
   "outputs": [
    {
     "data": {
      "text/html": [
       "<div>\n",
       "<style scoped>\n",
       "    .dataframe tbody tr th:only-of-type {\n",
       "        vertical-align: middle;\n",
       "    }\n",
       "\n",
       "    .dataframe tbody tr th {\n",
       "        vertical-align: top;\n",
       "    }\n",
       "\n",
       "    .dataframe thead th {\n",
       "        text-align: right;\n",
       "    }\n",
       "</style>\n",
       "<table border=\"1\" class=\"dataframe\">\n",
       "  <thead>\n",
       "    <tr style=\"text-align: right;\">\n",
       "      <th></th>\n",
       "      <th>x</th>\n",
       "      <th>y</th>\n",
       "      <th>degree</th>\n",
       "      <th>ts</th>\n",
       "      <th>agent_id</th>\n",
       "      <th>type</th>\n",
       "      <th>distance</th>\n",
       "    </tr>\n",
       "  </thead>\n",
       "  <tbody>\n",
       "    <tr>\n",
       "      <th>0</th>\n",
       "      <td>2.388451</td>\n",
       "      <td>4.385040</td>\n",
       "      <td>0.0</td>\n",
       "      <td>5.667</td>\n",
       "      <td>1</td>\n",
       "      <td>LeaderLocust_x_InanimatedLeaderLocust_black</td>\n",
       "      <td>4.993323</td>\n",
       "    </tr>\n",
       "    <tr>\n",
       "      <th>1</th>\n",
       "      <td>2.319736</td>\n",
       "      <td>4.378029</td>\n",
       "      <td>0.0</td>\n",
       "      <td>5.683</td>\n",
       "      <td>1</td>\n",
       "      <td>LeaderLocust_x_InanimatedLeaderLocust_black</td>\n",
       "      <td>4.954625</td>\n",
       "    </tr>\n",
       "    <tr>\n",
       "      <th>2</th>\n",
       "      <td>2.255324</td>\n",
       "      <td>4.371209</td>\n",
       "      <td>0.0</td>\n",
       "      <td>5.701</td>\n",
       "      <td>1</td>\n",
       "      <td>LeaderLocust_x_InanimatedLeaderLocust_black</td>\n",
       "      <td>4.918735</td>\n",
       "    </tr>\n",
       "    <tr>\n",
       "      <th>3</th>\n",
       "      <td>2.186351</td>\n",
       "      <td>4.364463</td>\n",
       "      <td>0.0</td>\n",
       "      <td>5.717</td>\n",
       "      <td>1</td>\n",
       "      <td>LeaderLocust_x_InanimatedLeaderLocust_black</td>\n",
       "      <td>4.881461</td>\n",
       "    </tr>\n",
       "    <tr>\n",
       "      <th>4</th>\n",
       "      <td>2.126908</td>\n",
       "      <td>4.358794</td>\n",
       "      <td>0.0</td>\n",
       "      <td>5.736</td>\n",
       "      <td>1</td>\n",
       "      <td>LeaderLocust_x_InanimatedLeaderLocust_black</td>\n",
       "      <td>4.850033</td>\n",
       "    </tr>\n",
       "    <tr>\n",
       "      <th>...</th>\n",
       "      <td>...</td>\n",
       "      <td>...</td>\n",
       "      <td>...</td>\n",
       "      <td>...</td>\n",
       "      <td>...</td>\n",
       "      <td>...</td>\n",
       "      <td>...</td>\n",
       "    </tr>\n",
       "    <tr>\n",
       "      <th>38290</th>\n",
       "      <td>4.413061</td>\n",
       "      <td>0.018516</td>\n",
       "      <td>0.0</td>\n",
       "      <td>9.717</td>\n",
       "      <td>0</td>\n",
       "      <td>LeaderLocust</td>\n",
       "      <td>4.413100</td>\n",
       "    </tr>\n",
       "    <tr>\n",
       "      <th>38291</th>\n",
       "      <td>4.423752</td>\n",
       "      <td>0.018102</td>\n",
       "      <td>0.0</td>\n",
       "      <td>9.734</td>\n",
       "      <td>0</td>\n",
       "      <td>LeaderLocust</td>\n",
       "      <td>4.423789</td>\n",
       "    </tr>\n",
       "    <tr>\n",
       "      <th>38292</th>\n",
       "      <td>4.434460</td>\n",
       "      <td>0.019318</td>\n",
       "      <td>0.0</td>\n",
       "      <td>9.750</td>\n",
       "      <td>0</td>\n",
       "      <td>LeaderLocust</td>\n",
       "      <td>4.434502</td>\n",
       "    </tr>\n",
       "    <tr>\n",
       "      <th>38293</th>\n",
       "      <td>4.448607</td>\n",
       "      <td>0.022989</td>\n",
       "      <td>0.0</td>\n",
       "      <td>9.769</td>\n",
       "      <td>0</td>\n",
       "      <td>LeaderLocust</td>\n",
       "      <td>4.448666</td>\n",
       "    </tr>\n",
       "    <tr>\n",
       "      <th>38294</th>\n",
       "      <td>4.457578</td>\n",
       "      <td>0.026405</td>\n",
       "      <td>0.0</td>\n",
       "      <td>9.784</td>\n",
       "      <td>0</td>\n",
       "      <td>LeaderLocust</td>\n",
       "      <td>4.457656</td>\n",
       "    </tr>\n",
       "  </tbody>\n",
       "</table>\n",
       "<p>38295 rows × 7 columns</p>\n",
       "</div>"
      ],
      "text/plain": [
       "              x         y  degree     ts  agent_id  \\\n",
       "0      2.388451  4.385040     0.0  5.667         1   \n",
       "1      2.319736  4.378029     0.0  5.683         1   \n",
       "2      2.255324  4.371209     0.0  5.701         1   \n",
       "3      2.186351  4.364463     0.0  5.717         1   \n",
       "4      2.126908  4.358794     0.0  5.736         1   \n",
       "...         ...       ...     ...    ...       ...   \n",
       "38290  4.413061  0.018516     0.0  9.717         0   \n",
       "38291  4.423752  0.018102     0.0  9.734         0   \n",
       "38292  4.434460  0.019318     0.0  9.750         0   \n",
       "38293  4.448607  0.022989     0.0  9.769         0   \n",
       "38294  4.457578  0.026405     0.0  9.784         0   \n",
       "\n",
       "                                              type  distance  \n",
       "0      LeaderLocust_x_InanimatedLeaderLocust_black  4.993323  \n",
       "1      LeaderLocust_x_InanimatedLeaderLocust_black  4.954625  \n",
       "2      LeaderLocust_x_InanimatedLeaderLocust_black  4.918735  \n",
       "3      LeaderLocust_x_InanimatedLeaderLocust_black  4.881461  \n",
       "4      LeaderLocust_x_InanimatedLeaderLocust_black  4.850033  \n",
       "...                                            ...       ...  \n",
       "38290                                 LeaderLocust  4.413100  \n",
       "38291                                 LeaderLocust  4.423789  \n",
       "38292                                 LeaderLocust  4.434502  \n",
       "38293                                 LeaderLocust  4.448666  \n",
       "38294                                 LeaderLocust  4.457656  \n",
       "\n",
       "[38295 rows x 7 columns]"
      ]
     },
     "execution_count": 30,
     "metadata": {},
     "output_type": "execute_result"
    }
   ],
   "source": [
    "relative_pos_all_pd"
   ]
  },
  {
   "cell_type": "code",
   "execution_count": null,
   "metadata": {},
   "outputs": [],
   "source": [
    "## get trial type and sort them by the length of the name and then by alphabet. In this case, homogeneous trial should usually be the first twos\n",
    "trial_type_list=sorted(relative_pos_all_pd['type'].unique(), key=len)\n",
    "trial_type_list[2:]=sorted(trial_type_list[2:], key=str,reverse=True)\n",
    "trial_type_list[:2]=sorted(trial_type_list[:2], key=str,reverse=True)\n",
    "print(trial_type_list)\n",
    "'''When a trial type contains _x_ in between the two object types, that means this is an heterogeneous trial.\n",
    "Then the first one is the one listed in the first item in the json file. So far, 20250514, that means the right object, and agent ID 0 in the scene'''"
   ]
  },
  {
   "cell_type": "code",
   "execution_count": null,
   "metadata": {},
   "outputs": [],
   "source": [
    "trial_type_of_interest=[trial_type_list[0]]\n",
    "#trial_type_of_interest=[trial_type_list[1]]\n",
    "#trial_type_of_interest=[trial_type_list[2]]\n",
    "#trial_type_of_interest=[trial_type_list[3]]\n",
    "#trial_type_of_interest=[trial_type_list[2],trial_type_list[3]]\n",
    "#trial_type_of_interest=[trial_type_list[0],trial_type_list[1]]"
   ]
  },
  {
   "cell_type": "code",
   "execution_count": null,
   "metadata": {},
   "outputs": [],
   "source": [
    "analysis_methods.update({\"save_output\":True})"
   ]
  },
  {
   "cell_type": "code",
   "execution_count": null,
   "metadata": {},
   "outputs": [],
   "source": [
    "for distance_threshold_for_plotting in range(5,30,10):\n",
    "    print(f\"distance threshold for plotting 2D histogram: {distance_threshold_for_plotting} cm\")\n",
    "    if len(trial_type_of_interest)==1:\n",
    "        relative_pos_of_interest=[relative_pos_all_pd[(relative_pos_all_pd['type']==trial_type_of_interest[0]) & (relative_pos_all_pd['distance']<distance_threshold_for_plotting)]]\n",
    "    elif len(trial_type_of_interest)==2:\n",
    "        relative_pos_of_interest=[relative_pos_all_pd[(relative_pos_all_pd['type']==trial_type_of_interest[0]) & (relative_pos_all_pd['distance']<distance_threshold_for_plotting)],relative_pos_all_pd[(relative_pos_all_pd['type']==trial_type_of_interest[1]) & (relative_pos_all_pd['distance']<distance_threshold_for_plotting)]]\n",
    "    plot_relative_pos_distribution(relative_pos_of_interest,trial_type_of_interest,distance_threshold_for_plotting,analysis_methods)"
   ]
  },
  {
   "cell_type": "markdown",
   "metadata": {},
   "source": [
    "#### Session 2.2 calculate preference index based on the narrower definition of follow choices and plot the index"
   ]
  },
  {
   "cell_type": "code",
   "execution_count": null,
   "metadata": {},
   "outputs": [],
   "source": [
    "#trial_type_of_interest=[trial_type_list[2],trial_type_list[3]]\n",
    "trial_type_of_interest=[trial_type_list[0],trial_type_list[1]]\n",
    "#trial_type_of_interest=[trial_type_list[3]]\n",
    "left_right_preference_across_animals,exp_con_preference_across_animals,_,_=calculate_preference_index(relative_pos_all_animals,trial_type_of_interest,analysis_methods)"
   ]
  },
  {
   "cell_type": "code",
   "execution_count": null,
   "metadata": {},
   "outputs": [],
   "source": [
    "plot_preference_index(left_right_preference_across_animals,exp_con_preference_across_animals,trial_type_of_interest,analysis_methods)"
   ]
  },
  {
   "cell_type": "markdown",
   "metadata": {},
   "source": [
    "#### Session 2.3 plot relative position and calculate preference index VR rig by VR rig"
   ]
  },
  {
   "cell_type": "code",
   "execution_count": null,
   "metadata": {},
   "outputs": [],
   "source": [
    "# plotting the preference index for each VR number\n",
    "#trial_type_of_interest=[trial_type_list[0],trial_type_list[1]]\n",
    "plot_relative_position_groupby_vr=True\n",
    "for this_vr in np.unique(vr_no):\n",
    "    print(f\"VR number {this_vr} is used in the experiment\")\n",
    "    ### next time, finish this function to plot relative position distribution for each VR number\n",
    "    if plot_relative_position_groupby_vr==True:\n",
    "        relative_pos_subgroups=[relative_pos_all_animals[x] for x in np.where(vr_no==this_vr)[0]]\n",
    "        relative_pos_sub_pd=pd.concat(relative_pos_subgroups,ignore_index=True)\n",
    "        relative_pos_sub_pd['distance']=relative_pos_sub_pd.apply(lambda row:np.sqrt(np.square(row['x']) + np.square(row['y'])), axis=1)\n",
    "        for distance_threshold_for_plotting in range(5,30,10):\n",
    "            print(f\"distance threshold for plotting 2D histogram: {distance_threshold_for_plotting} cm\")\n",
    "            if len(trial_type_of_interest)==1:\n",
    "                relative_pos_of_interest=[relative_pos_sub_pd[(relative_pos_sub_pd['type']==trial_type_of_interest[0]) & (relative_pos_sub_pd['distance']<distance_threshold_for_plotting)]]\n",
    "            elif len(trial_type_of_interest)==2:\n",
    "                relative_pos_of_interest=[relative_pos_sub_pd[(relative_pos_sub_pd['type']==trial_type_of_interest[0]) & (relative_pos_sub_pd['distance']<distance_threshold_for_plotting)],relative_pos_sub_pd[(relative_pos_sub_pd['type']==trial_type_of_interest[1]) & (relative_pos_sub_pd['distance']<distance_threshold_for_plotting)]]\n",
    "            plot_relative_pos_distribution(relative_pos_of_interest,trial_type_of_interest,distance_threshold_for_plotting,analysis_methods,this_vr=f\"VR{this_vr}\")\n",
    "    if \"left_right_preference_across_animals\" in locals():\n",
    "        plot_preference_index(left_right_preference_across_animals[:,vr_no==this_vr],exp_con_preference_across_animals[:,vr_no==this_vr],trial_type_of_interest,analysis_methods,thresholds=[4,5,6,7,8],this_vr=f\"VR{this_vr}\")"
   ]
  },
  {
   "cell_type": "code",
   "execution_count": null,
   "metadata": {},
   "outputs": [],
   "source": [
    "##do some correlation analysis to see if there is any correlation between the preference index and the travel distance or turning angles\n",
    "##whether opened wing makes a difference in the travel distance\n",
    "##analyse speed and follow duration after an animal start to follow the target (distance < 4 cm)\n",
    "##histogram of follow epochs animals by animal and tbt\n",
    "##output velocity and turning angle in every frame"
   ]
  },
  {
   "cell_type": "markdown",
   "metadata": {},
   "source": [
    "#### Session 2.4: Plot temporal distribution of follow epoch throughout the trial course\n"
   ]
  },
  {
   "cell_type": "code",
   "execution_count": 34,
   "metadata": {},
   "outputs": [
    {
     "name": "stdout",
     "output_type": "stream",
     "text": [
      "['LeaderLocust', 'InanimatedLeaderLocust_black', 'LeaderLocust_x_InanimatedLeaderLocust_black', 'InanimatedLeaderLocust_black_x_LeaderLocust']\n"
     ]
    }
   ],
   "source": [
    "## this is the same as the one above, so we can skip this part if distance in relative_pos_all_pd is calculated and type in relative_pos_pd is sorted already\n",
    "relative_pos_all_pd=pd.concat(relative_pos_all_animals,ignore_index=True)\n",
    "relative_pos_all_pd['distance']=relative_pos_all_pd.apply(lambda row:np.sqrt(np.square(row['x']) + np.square(row['y'])), axis=1)\n",
    "trial_type_list=sorted(relative_pos_all_pd['type'].unique(), key=len)\n",
    "trial_type_list[2:]=sorted(trial_type_list[2:], key=str,reverse=True)\n",
    "trial_type_list[:2]=sorted(trial_type_list[:2], key=str,reverse=True)\n",
    "print(trial_type_list)"
   ]
  },
  {
   "cell_type": "code",
   "execution_count": null,
   "metadata": {},
   "outputs": [
    {
     "data": {
      "text/plain": [
       "'LeaderLocust_x_InanimatedLeaderLocust_black'"
      ]
     },
     "execution_count": 39,
     "metadata": {},
     "output_type": "execute_result"
    }
   ],
   "source": [
    "trial_type_of_interest[0]"
   ]
  },
  {
   "cell_type": "code",
   "execution_count": 51,
   "metadata": {},
   "outputs": [],
   "source": [
    "trial_type_of_interest=[trial_type_list[2],trial_type_list[3]]"
   ]
  },
  {
   "cell_type": "code",
   "execution_count": 46,
   "metadata": {},
   "outputs": [
    {
     "data": {
      "text/plain": [
       "'InanimatedLeaderLocust_black_x_LeaderLocust'"
      ]
     },
     "execution_count": 46,
     "metadata": {},
     "output_type": "execute_result"
    }
   ],
   "source": [
    "trial_type_of_interest[0]"
   ]
  },
  {
   "cell_type": "code",
   "execution_count": 56,
   "metadata": {},
   "outputs": [],
   "source": [
    "object_of_interest=trial_type_of_interest[0].split(\"_x_\")"
   ]
  },
  {
   "cell_type": "code",
   "execution_count": 55,
   "metadata": {},
   "outputs": [
    {
     "data": {
      "text/plain": [
       "'LeaderLocust_x_InanimatedLeaderLocust_black'"
      ]
     },
     "execution_count": 55,
     "metadata": {},
     "output_type": "execute_result"
    }
   ],
   "source": [
    "trial_type_of_interest[0]"
   ]
  },
  {
   "cell_type": "code",
   "execution_count": 61,
   "metadata": {},
   "outputs": [
    {
     "data": {
      "text/plain": [
       "'LeaderLocust_x_InanimatedLeaderLocust_black'"
      ]
     },
     "execution_count": 61,
     "metadata": {},
     "output_type": "execute_result"
    }
   ],
   "source": [
    "trial_type_of_interest[0]"
   ]
  },
  {
   "cell_type": "code",
   "execution_count": 75,
   "metadata": {},
   "outputs": [
    {
     "name": "stdout",
     "output_type": "stream",
     "text": [
      "('InanimatedLeaderLocust_black',)\n",
      "('InanimatedLeaderLocust_black_x_LeaderLocust',)\n",
      "('LeaderLocust',)\n",
      "('LeaderLocust_x_InanimatedLeaderLocust_black',)\n",
      "the control object is LeaderLocust and the experimental object is InanimatedLeaderLocust_black\n"
     ]
    },
    {
     "data": {
      "image/png": "[encoded data removed]",
      "text/plain": [
       "<Figure size 900x500 with 2 Axes>"
      ]
     },
     "metadata": {},
     "output_type": "display_data"
    },
    {
     "data": {
      "image/png": "[encoded data removed]",
      "text/plain": [
       "<Figure size 900x500 with 2 Axes>"
      ]
     },
     "metadata": {},
     "output_type": "display_data"
    },
    {
     "data": {
      "image/png": "[encoded data removed]",
      "text/plain": [
       "<Figure size 900x500 with 2 Axes>"
      ]
     },
     "metadata": {},
     "output_type": "display_data"
    },
    {
     "data": {
      "image/png": "[encoded data removed]",
      "text/plain": [
       "<Figure size 900x500 with 2 Axes>"
      ]
     },
     "metadata": {},
     "output_type": "display_data"
    }
   ],
   "source": [
    "hetero_pattern='_x_'\n",
    "distance_threshold_for_plotting =5\n",
    "follow_epochs_temporal_con=[]\n",
    "follow_epochs_temporal_exp=[]\n",
    "follow_epochs_temporal_L=[]\n",
    "follow_epochs_temporal_R=[]\n",
    "relative_pos_of_interest=relative_pos_all_pd[relative_pos_all_pd['distance']<distance_threshold_for_plotting]\n",
    "for keys, grp in relative_pos_of_interest.groupby(['type']):\n",
    "    print(keys)\n",
    "    if hetero_pattern in keys[0]:\n",
    "        if keys[0]==trial_type_of_interest[0]:     \n",
    "            follow_epochs_temporal_con.append(grp['ts'][grp['agent_id']==0].values)\n",
    "            follow_epochs_temporal_exp.append(grp['ts'][grp['agent_id']==1].values)\n",
    "            print(f\"the control object is {object_of_interest[0]} and the experimental object is {object_of_interest[1]}\")\n",
    "        else:\n",
    "            follow_epochs_temporal_con.append(grp['ts'][grp['agent_id']==1].values)\n",
    "            follow_epochs_temporal_exp.append(grp['ts'][grp['agent_id']==0].values)\n",
    "    fig, axes = plt.subplots(\n",
    "        nrows=1, ncols=2, figsize=(9,5), tight_layout=True\n",
    "    )\n",
    "    ax, ax2 = axes.flatten()\n",
    "    ax.hist(grp['ts'].values,bins=100,density=False,color='r')\n",
    "    ax2.hist(grp['ts'].values,bins=100,density=True,color='r',histtype=\"step\",cumulative=True,label=\"Cumulative histogram\")\n",
    "    ax.set(xlim=(0,60))\n",
    "plt.show()"
   ]
  },
  {
   "cell_type": "code",
   "execution_count": 74,
   "metadata": {},
   "outputs": [
    {
     "data": {
      "text/plain": [
       "[(0.0, 60.0)]"
      ]
     },
     "execution_count": 74,
     "metadata": {},
     "output_type": "execute_result"
    },
    {
     "data": {
      "image/png": "[encoded data removed]",
      "text/plain": [
       "<Figure size 900x500 with 2 Axes>"
      ]
     },
     "metadata": {},
     "output_type": "display_data"
    }
   ],
   "source": [
    "fig, axes = plt.subplots(\n",
    "    nrows=1, ncols=2, figsize=(9,5), tight_layout=True\n",
    ")\n",
    "ax, ax2 = axes.flatten()\n",
    "ax.hist(np.hstack(follow_epochs_temporal_con),bins=100,density=False,color='r')\n",
    "ax.hist(np.hstack(follow_epochs_temporal_exp),bins=100,density=False,color='b')\n",
    "ax2.hist(np.hstack(follow_epochs_temporal_con),bins=100,density=True,color='r',histtype=\"step\",cumulative=True,label=\"Cumulative histogram\")\n",
    "ax2.hist(np.hstack(follow_epochs_temporal_exp),bins=100,density=True,color='b',histtype=\"step\",cumulative=True,label=\"Cumulative histogram\")\n",
    "ax.set(xlim=(0,60))\n",
    "ax2.set(xlim=(0,60))"
   ]
  },
  {
   "cell_type": "code",
   "execution_count": null,
   "metadata": {},
   "outputs": [
    {
     "data": {
      "text/plain": [
       "(6083,)"
      ]
     },
     "execution_count": 71,
     "metadata": {},
     "output_type": "execute_result"
    }
   ],
   "source": []
  },
  {
   "cell_type": "code",
   "execution_count": null,
   "metadata": {},
   "outputs": [
    {
     "data": {
      "text/plain": [
       "(9829,)"
      ]
     },
     "execution_count": 73,
     "metadata": {},
     "output_type": "execute_result"
    }
   ],
   "source": []
  },
  {
   "cell_type": "markdown",
   "metadata": {},
   "source": [
    "### Session 3.0: Calculate other metrics to look for any confounding factors in the dataset"
   ]
  },
  {
   "cell_type": "markdown",
   "metadata": {},
   "source": [
    "#### Session 3.1: plot distribution trial by trial with seaborn and pandas"
   ]
  },
  {
   "cell_type": "code",
   "execution_count": null,
   "metadata": {},
   "outputs": [],
   "source": [
    "#convert the data type from list into a big concatenated pandas dataframe\n",
    "all_evaluation=pd.concat(trial_evaluation_across_animals)"
   ]
  },
  {
   "cell_type": "code",
   "execution_count": null,
   "metadata": {},
   "outputs": [],
   "source": [
    "follow_time_aba,follow_time_tbt,follow_walk_ratio_aba,follow_walk_ratio_tbt=plot_follow_response_distribution(all_evaluation)"
   ]
  },
  {
   "cell_type": "code",
   "execution_count": null,
   "metadata": {},
   "outputs": [],
   "source": [
    "## optinal, to get more information about experience-dependant responses\n",
    "#follow_time_tbt=all_evaluation['num_follow_epochs']/all_evaluation['number_frames']\n",
    "all_evaluation[\"follow_ratio_previous_trial\"]=pd.concat([pd.Series(np.nan),follow_time_tbt[:-1]],ignore_index=True).to_list()\n",
    "all_evaluation[\"follow_ratio_next_trial\"]=pd.concat([follow_time_tbt[1:],pd.Series(np.nan)],ignore_index=True).to_list()\n",
    "all_evaluation[\"follow_ratio_this_trial\"]=follow_time_tbt\n",
    "all_evaluation.reset_index(drop=True, inplace=True)\n",
    "all_evaluation.loc[all_evaluation.index[all_evaluation['trial_id']==0].tolist(),'follow_ratio_previous_trial']=np.nan\n",
    "all_evaluation.loc[all_evaluation.index[all_evaluation['trial_id']==all_evaluation['trial_id'].max()].tolist(),'follow_ratio_next_trial']=np.nan"
   ]
  },
  {
   "cell_type": "markdown",
   "metadata": {},
   "source": [
    "Session 3.2: plot distribution animal by animal with seaborn and pandas agg function"
   ]
  },
  {
   "cell_type": "code",
   "execution_count": null,
   "metadata": {},
   "outputs": [],
   "source": [
    "all_evaluation.columns"
   ]
  },
  {
   "cell_type": "code",
   "execution_count": null,
   "metadata": {},
   "outputs": [],
   "source": [
    "# if the analysis you want to do to summarise individual animal's data is some simple operation like sum or mean, \n",
    "# Then you can use agg function of pandas to do the same thing as above\n",
    "# The benefit of this way is that the end product is still a pandas dataframe so it is easy to make plots and do further analysis\n",
    "#turning metrics of interest into boolian values so that we can use them to filter or group the data\n",
    "all_evaluation['longer_than_30']=all_evaluation['minimum_starvation_time']>30\n",
    "#use cut function to chop the data into 3 groups based on the order of the animal ID so that we can group the data by day\n",
    "all_evaluation['day_group'] = pd.cut(all_evaluation['animal_id'], bins=3, labels=['Day1', 'Day2', 'Day3'])\n",
    "all_evaluation_aba = all_evaluation.groupby('animal_id').agg(\n",
    "    travel_distance=('travel_distance', 'sum'),\n",
    "    gross_turning=('gross_turning', 'sum'),\n",
    "    total_turning=('total_turning', 'sum'),\n",
    "    travel_distance_ISI=('travel_distance_ISI', 'sum'),\n",
    "    gross_turning_ISI=('gross_turning_ISI', 'sum'),\n",
    "    num_follow_epochs=('num_follow_epochs', 'sum'),\n",
    "    num_walk_epochs=('num_walk_epochs', 'sum'),\n",
    "    number_frames=('number_frames','sum'),\n",
    "    minimum_starvation_time=('minimum_starvation_time', 'first'),\n",
    "    day_group=('day_group', 'first'),\n",
    "    longer_than_30=('longer_than_30','first'),\n",
    "    vr_no=('VR', 'first'),\n",
    ")\n",
    "print(all_evaluation_aba)"
   ]
  },
  {
   "cell_type": "code",
   "execution_count": null,
   "metadata": {},
   "outputs": [],
   "source": [
    "sns.jointplot(data=all_evaluation, x=\"travel_distance_ISI\", y=\"num_follow_epochs\", hue=\"longer_than_30\")\n",
    "#sns.jointplot(data=all_evaluation, x=\"travel_distance\", y=\"minimum_starvation_time\")\n",
    "#sns.regplot(data=all_evaluation, x='minimum_starvation_time', y='travel_distance')\n",
    "plt.show()"
   ]
  },
  {
   "cell_type": "code",
   "execution_count": null,
   "metadata": {},
   "outputs": [],
   "source": [
    "#for degree 45 dataset\n",
    "all_evaluation_aba.loc[7, 'day_group']='Day2'\n",
    "all_evaluation_aba.loc[8, 'day_group']='Day2'"
   ]
  },
  {
   "cell_type": "code",
   "execution_count": null,
   "metadata": {},
   "outputs": [],
   "source": [
    "# check if previous pd.cut function split the data correctly. If not, we can use the following code to assign the day_group manually\n",
    "#for degree 60 dataset\n",
    "all_evaluation_aba.loc[11, 'day_group']='Day2'\n",
    "all_evaluation_aba.loc[22, 'day_group']='Day3'"
   ]
  },
  {
   "cell_type": "markdown",
   "metadata": {},
   "source": [
    "#### plotting tips: If the number of data to plot is smaller, try revealing the real distribution of the data and avoiding kde plot. In this case, instead of using jointplot function, use JoinGrid for the sake of flexibility"
   ]
  },
  {
   "cell_type": "code",
   "execution_count": null,
   "metadata": {},
   "outputs": [],
   "source": [
    "a=sns.jointplot(data=all_evaluation_aba, x=\"travel_distance_ISI\", y=\"num_follow_epochs\", hue=\"longer_than_30\")\n",
    "## add an additional marginal plot to show the distribution of the data\n",
    "a.plot_marginals(sns.rugplot, height=0.15, clip_on=False)"
   ]
  },
  {
   "cell_type": "code",
   "execution_count": null,
   "metadata": {},
   "outputs": [],
   "source": [
    "## creating an empty JoinGrid object gives you flexibility of every plots\n",
    "b=sns.JointGrid()\n",
    "x, y,h = all_evaluation_aba[\"travel_distance_ISI\"], all_evaluation_aba[\"num_follow_epochs\"], all_evaluation_aba[\"day_group\"]\n",
    "sns.scatterplot(x=x,y=y,hue=h,ax=b.ax_joint)\n",
    "sns.stripplot(x=x,hue=h,ax=b.ax_marg_x,dodge=True,legend=False,jitter=False)\n",
    "sns.histplot(y=y,hue=h,ax=b.ax_marg_y,legend=False)"
   ]
  },
  {
   "cell_type": "code",
   "execution_count": null,
   "metadata": {},
   "outputs": [],
   "source": [
    "## If an non-empty JoinGrid object is created, plot function can give you concise of the code (but only default parameters)\n",
    "c = sns.JointGrid(data=all_evaluation_aba, x=\"travel_distance_ISI\", y=\"gross_turning_ISI\",hue='vr_no')\n",
    "c.plot(sns.scatterplot, sns.histplot)\n",
    "c.refline(y=0)"
   ]
  },
  {
   "cell_type": "markdown",
   "metadata": {},
   "source": [
    "### Session 4: time series analysis of follow choices"
   ]
  },
  {
   "cell_type": "markdown",
   "metadata": {},
   "source": [
    "Session 4.1: using data from fictrac"
   ]
  },
  {
   "cell_type": "code",
   "execution_count": null,
   "metadata": {},
   "outputs": [],
   "source": [
    "##this can select follower of interest\n",
    "use_aba_threshold=False\n",
    "threshold=0.25\n",
    "based_on_follow_walk_ratio=False\n",
    "if based_on_follow_walk_ratio:\n",
    "    denominator='num_walk_epochs'\n",
    "else:\n",
    "    denominator='number_frames'\n",
    "if use_aba_threshold:\n",
    "    animal_interest=all_evaluation_aba[all_evaluation_aba['num_follow_epochs']/all_evaluation_aba[denominator]>threshold].index\n",
    "    step_interest=np.arange(1, 2*len(all_evaluation['trial_id'].unique()), 2)\n",
    "else:\n",
    "    ##this can select follow trials of interest and convert that into step_id\n",
    "    animal_interest=all_evaluation[all_evaluation['num_follow_epochs']/all_evaluation[denominator]>threshold]['animal_id']\n",
    "    step_interest=all_evaluation[all_evaluation['num_follow_epochs']/all_evaluation[denominator]>threshold]['trial_id']*2+1"
   ]
  },
  {
   "cell_type": "code",
   "execution_count": null,
   "metadata": {},
   "outputs": [],
   "source": [
    "var1='polar_angle'\n",
    "var2='object'\n",
    "analysis_methods.update({\"analysis_window\":[0,5]})\n",
    "analysis_methods.update({\"split_stationary_moving_ISI\":False})\n",
    "analysis_window=analysis_methods.get(\"analysis_window\")\n",
    "monitor_fps=analysis_methods.get(\"monitor_fps\")\n",
    "n_datapoints=(analysis_window[1]-analysis_window[0])*monitor_fps\n",
    "ready_to_plot=sort_raster_fictrac(raster_across_animals_fictrac,all_evaluation,animal_interest,step_interest,var1,var2,analysis_methods)"
   ]
  },
  {
   "cell_type": "code",
   "execution_count": null,
   "metadata": {},
   "outputs": [],
   "source": [
    "\n",
    "fig, axes = plt.subplots(\n",
    "    nrows=1, ncols=1, figsize=(9,5), tight_layout=True\n",
    ")\n",
    "    #arg=lambda x: (x.min(), x.max())\n",
    "sns.lineplot(x=\"frame_count\", y=\"heading\",estimator='median',\n",
    "            #errorbar=arg,\n",
    "            data=ready_to_plot,ax=axes)\n",
    "axes.set(\n",
    "    xlabel=\"Time (s)\",\n",
    "    xticks=[0,abs(analysis_window[0]*monitor_fps)-1,n_datapoints-1],\n",
    "    xticklabels=([str(analysis_window[0]),'0', str(analysis_window[1])]),\n",
    ")"
   ]
  },
  {
   "cell_type": "code",
   "execution_count": null,
   "metadata": {},
   "outputs": [],
   "source": [
    "fig, axes = plt.subplots(\n",
    "    nrows=1, ncols=1, figsize=(9,18), tight_layout=True\n",
    ")\n",
    "#p1=np.reshape(this_data['instant_speed'].to_numpy(),(n_datapoints,-1))\n",
    "p1=np.reshape(ready_to_plot['heading'].to_numpy(),(-1,n_datapoints))\n",
    "\n",
    "axes.plot(np.transpose(p1),linewidth=0.1)\n",
    "#mean_p1=np.median(p1,axis=0)\n",
    "mean_p1=circmean(p1,high=180,low=-180,axis=0)\n",
    "axes.plot(mean_p1,'k',linewidth=1)\n",
    "dif_y1,dif_y2=get_fill_between_range(p1,False,True)\n",
    "axes.fill_between(np.arange(n_datapoints),dif_y1,dif_y2, alpha=0.4,color='k')\n",
    "axes.set_ylim([-90,90])\n",
    "axes.set(\n",
    "    xlabel=\"Time (s)\",\n",
    "    xticks=[0,abs(analysis_window[0]*monitor_fps)-1,n_datapoints-1],\n",
    "    xticklabels=([str(analysis_window[0]),'0', str(analysis_window[1])]),\n",
    ")\n",
    "plt.show()"
   ]
  },
  {
   "cell_type": "markdown",
   "metadata": {},
   "source": [
    "#### Session 4.2: using data from unity"
   ]
  },
  {
   "cell_type": "code",
   "execution_count": null,
   "metadata": {},
   "outputs": [],
   "source": [
    "if type(raster_across_animals_unity)==list:\n",
    "    all_trials=pd.concat(raster_across_animals_unity)\n",
    "    all_trials=fix_data_type(all_trials)\n",
    "else:\n",
    "    all_trials=fix_data_type(raster_across_animals_unity)"
   ]
  },
  {
   "cell_type": "code",
   "execution_count": null,
   "metadata": {},
   "outputs": [],
   "source": [
    "#for simplicity, classifying trial only based on stationary and walk trails\n",
    "classify_trials=True\n",
    "trial_classifier='velocity'#'velocity' or 'omega'\n",
    "metrics_name='omega'#'velocity' or 'omega'\n",
    "check_baseline_distribution(all_trials,analysis_methods,metrics_name,duration_for_baseline=1)\n",
    "_,these_metrics,these_normalised_metrics=split_trials(analysis_methods,all_trials,metrics_name,'normalised_omega',1)#1 degree or 0.0002 rad\n",
    "_,these_Xs,_=split_trials(analysis_methods,all_trials,\"X\")\n",
    "_,these_Ys,_=split_trials(analysis_methods,all_trials,\"Y\")\n",
    "if classify_trials:\n",
    "    movement_trial_boolean,_,_=split_trials(analysis_methods,all_trials,trial_classifier)\n",
    "else:\n",
    "    movement_trial_boolean=[True]*len(these_metrics)"
   ]
  },
  {
   "cell_type": "code",
   "execution_count": null,
   "metadata": {},
   "outputs": [],
   "source": [
    "#threshold is around 0.5 to 1 \n",
    "duration_for_baseline=3\n",
    "metrics_name='omega'\n",
    "metrics_name2='normalised_omega'\n",
    "walk_threshold=1\n",
    "monitor_fps=analysis_methods.get(\"monitor_fps\")\n",
    "movement_trial_boolean=[]\n",
    "these_metrics=[]\n",
    "these_normalised_metrics=[]\n",
    "for keys, this_data in all_trials.groupby(['animal_id','id']):\n",
    "    this_metrics=this_data[metrics_name].values\n",
    "    baseline_metrics=np.nanmean(this_metrics[:duration_for_baseline*monitor_fps])\n",
    "    #baseline_metrics=np.cumsum(this_metrics[:duration_for_baseline*monitor_fps])\n",
    "    movement_trial_boolean.append(abs(baseline_metrics)>walk_threshold)\n",
    "    these_metrics.append(this_metrics)\n",
    "    these_normalised_metrics.append(this_data[metrics_name2].values)"
   ]
  },
  {
   "cell_type": "code",
   "execution_count": null,
   "metadata": {},
   "outputs": [],
   "source": [
    "after_movement_ith_trial,after_no_movement_ith_trial=extract_trial_index(movement_trial_boolean,len(all_trials['animal_id'].unique()),analysis_methods)"
   ]
  },
  {
   "cell_type": "code",
   "execution_count": null,
   "metadata": {},
   "outputs": [],
   "source": [
    "def select_animal_or_trial_to_analyse(all_evaluation,use_aba_threshold,based_on_follow_walk_ratio,threshold_value=0.25):\n",
    "    if based_on_follow_walk_ratio:\n",
    "        denominator='num_walk_epochs'\n",
    "    else:\n",
    "        denominator='number_frames'\n",
    "    if use_aba_threshold==True:\n",
    "        p_follow=all_evaluation.groupby(['animal_id'])['num_follow_epochs'].sum()/all_evaluation.groupby(['animal_id'])[denominator].sum()\n",
    "        #follower_of_interest=(p_follow>fair_follower_threshold) & (p_follow<good_follower_threshold)\n",
    "        #data_of_interest=p_follow>0.14 ### this data of interest means subjects of interest\n",
    "        data_of_interest=p_follow>threshold_value\n",
    "        #rows_of_follower=follower_of_interest.repeat(int(all_evaluation.shape[0]/follower_of_interest.shape[0]))\n",
    "    else:\n",
    "        data_of_interest=all_evaluation['num_follow_epochs']/all_evaluation[denominator]>threshold_value\n",
    "        #data_of_interest=(all_evaluation['num_follow_epochs']/all_evaluation[denominator]<threshold_value)&(all_evaluation['num_follow_epochs']/all_evaluation[denominator]>0.1)\n",
    "    return data_of_interest"
   ]
  },
  {
   "cell_type": "code",
   "execution_count": null,
   "metadata": {},
   "outputs": [],
   "source": [
    "use_aba_threshold=False\n",
    "based_on_follow_walk_ratio=False\n",
    "data_of_interest=select_animal_or_trial_to_analyse(all_evaluation,use_aba_threshold,based_on_follow_walk_ratio)\n",
    "row_of_interest=(data_of_interest.reset_index(drop=True))"
   ]
  },
  {
   "cell_type": "code",
   "execution_count": null,
   "metadata": {},
   "outputs": [],
   "source": [
    "plot_visual_evoked_behaviour(these_metrics,these_normalised_metrics,after_movement_ith_trial,after_no_movement_ith_trial,analysis_methods,metrics_name,row_of_interest=row_of_interest)"
   ]
  },
  {
   "cell_type": "code",
   "execution_count": null,
   "metadata": {},
   "outputs": [],
   "source": [
    "analysis_methods.update({\"save_output\":False})\n",
    "plot_visual_evoked_behaviour(these_Xs,these_Ys,after_movement_ith_trial,after_no_movement_ith_trial,analysis_methods,metrics_name='xy',row_of_interest=row_of_interest)"
   ]
  },
  {
   "cell_type": "code",
   "execution_count": null,
   "metadata": {},
   "outputs": [],
   "source": [
    "align_with_isi_onset=analysis_methods.get(\"align_with_isi_onset\",False)\n",
    "tmp=np.vstack(these_Xs)\n",
    "tmp2=np.vstack(these_Ys)\n",
    "if align_with_isi_onset:\n",
    "    trials_of_Xs=tmp[::2]\n",
    "    trials_of_Ys=tmp2[::2]\n",
    "else:\n",
    "    trials_of_Xs=tmp[1::2]\n",
    "    trials_of_Ys=tmp2[1::2]\n",
    "theseIndex=[]\n",
    "for this_index in np.where(row_of_interest)[0].tolist():\n",
    "    theseIndex.append(this_index)\n",
    "plot_theseXs=trials_of_Xs[theseIndex,:]\n",
    "plot_theseYs=trials_of_Ys[theseIndex,:]\n",
    "for i in range(len(theseIndex)):\n",
    "    plt.plot(plot_theseXs[i,:],plot_theseYs[i,:])\n",
    "plt.show()"
   ]
  }
 ],
 "metadata": {
  "kernelspec": {
   "display_name": "matrexvr_analysis",
   "language": "python",
   "name": "python3"
  },
  "language_info": {
   "codemirror_mode": {
    "name": "ipython",
    "version": 3
   },
   "file_extension": ".py",
   "mimetype": "text/x-python",
   "name": "python",
   "nbconvert_exporter": "python",
   "pygments_lexer": "ipython3",
   "version": "3.11.10"
  }
 },
 "nbformat": 4,
 "nbformat_minor": 4
}
