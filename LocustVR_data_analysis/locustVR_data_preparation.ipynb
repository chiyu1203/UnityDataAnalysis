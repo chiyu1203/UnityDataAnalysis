{
 "cells": [
  {
   "metadata": {},
   "cell_type": "markdown",
   "source": [
    "## LocustVR data preparation\n",
    "This notebook requires that the data has been read out and preprocessed using \"data_exploration_tutorial.ipynb\" Session 1.0 using \"locustvr_extractor.py\" script."
   ]
  },
  {
   "metadata": {},
   "cell_type": "markdown",
   "source": "### 0. Initialisation"
  },
  {
   "metadata": {},
   "cell_type": "markdown",
   "source": [
    "#### 0.1 Define directory names and paths\n",
    "- adjust name of utility directory containing \"useful_tools and \"data_cleaning\"\n",
    "- resolve_parent_directories is 0 when utility directory is in the same folder as this notebook, 1 when it is one folder above (Chi-Yu set 0)\n",
    "- adjust root directory to /AG_Couzin-Fuchs/DATA\n",
    "- decide to save as pickle or not (recommended for faster loading (if needed can be changed to save as hdf5))\n",
    "- set save path\n",
    "\n"
   ]
  },
  {
   "metadata": {
    "ExecuteTime": {
     "end_time": "2025-07-23T14:14:37.090649Z",
     "start_time": "2025-07-23T14:14:37.089007Z"
    }
   },
   "cell_type": "code",
   "source": [
    "utilities_name = \"utilities-main\"\n",
    "resolve_parent_directories=1\n",
    "root_dir_data = \"/Volumes/AG_Couzin-Fuchs/DATA/experiment_trackball_Optomotor/locustVR\"\n",
    "save_pickle = True\n",
    "save_path = \"/Users/aljoscha/Downloads/locustVR_data\""
   ],
   "outputs": [],
   "execution_count": 1
  },
  {
   "metadata": {},
   "cell_type": "markdown",
   "source": "#### 0.2 Import packages"
  },
  {
   "metadata": {
    "ExecuteTime": {
     "end_time": "2025-07-23T14:14:40.242866Z",
     "start_time": "2025-07-23T14:14:40.151003Z"
    }
   },
   "cell_type": "code",
   "source": [
    "import os,json\n",
    "import pandas as pd\n",
    "import matplotlib.pyplot as plt\n",
    "plt.style.use('default')\n",
    "import importlib\n",
    "\n",
    "from LocustVR_data_analysis import utils_local\n",
    "\n",
    "importlib.reload(utils_local)\n",
    "from LocustVR_data_analysis.utils_local import align_and_flip_heading, reindex_t_by_state_transition, convert_trial_label, align_trajectories, \\\n",
    "    compute_directness_and_direction, access_utilities, flip_symmetric_states\n",
    "\n",
    "access_utilities(utilities_name, resolve_parent_directories)\n",
    "\n",
    "from useful_tools import select_animals_gpt,find_file,column_name_list,get_fill_between_range,read_seq_config\n",
    "from data_cleaning import findLongestConseqSubseq,interp_fill\n",
    "\n",
    "json_file = \"../analysis_methods_dictionary.json\"\n",
    "\n",
    "with open(json_file, \"r\") as f:\n",
    "    analysis_methods = json.loads(f.read())\n",
    "\n",
    "variable_name='location'\n",
    "exp_name=analysis_methods.get(\"experiment_name\")"
   ],
   "outputs": [
    {
     "name": "stdout",
     "output_type": "stream",
     "text": [
      "/Users/aljoscha/PycharmProjects/VTK_LocustVR/utilities-main\n"
     ]
    }
   ],
   "execution_count": 2
  },
  {
   "cell_type": "markdown",
   "metadata": {},
   "source": "### 1. Data preparation"
  },
  {
   "metadata": {},
   "cell_type": "markdown",
   "source": [
    "#### 1.1 Load valid data\n",
    "Uses google sheet to select valid animals and puts their directories into a list."
   ]
  },
  {
   "metadata": {
    "ExecuteTime": {
     "end_time": "2025-07-17T09:13:17.202075Z",
     "start_time": "2025-07-17T09:13:13.356984Z"
    }
   },
   "cell_type": "code",
   "outputs": [
    {
     "name": "stdout",
     "output_type": "stream",
     "text": [
      "Valid animals IDs: \n",
      " ['GN25001' 'GN25002' 'GN25003' 'GN25004' 'GN25007' 'GN25008' 'GN25009'\n",
      " 'GN25011' 'GN25012' 'GN25013' 'GN25014' 'GN25015' 'GN25016' 'GN25017'\n",
      " 'GN25018' 'GN25020' 'GN25021' 'GN25022' 'GN25023' 'GN25024' 'GN25025'\n",
      " 'GN25026' 'GN25027' 'GN25030' 'GN25031' 'GN25032' 'GN25033' 'GN25034'\n",
      " 'GN25035' 'GN25036' 'GN25037' 'GN25038' 'GN25039' 'GN25040' 'GN25041'\n",
      " 'GN25042']\n",
      "Directories:\n",
      "/Volumes/AG_Couzin-Fuchs/DATA/experiment_trackball_Optomotor/locustVR/GN25001/20250624/choices/session1\n",
      "/Volumes/AG_Couzin-Fuchs/DATA/experiment_trackball_Optomotor/locustVR/GN25002/20250624/choices/session1\n",
      "/Volumes/AG_Couzin-Fuchs/DATA/experiment_trackball_Optomotor/locustVR/GN25003/20250624/choices/session1\n",
      "/Volumes/AG_Couzin-Fuchs/DATA/experiment_trackball_Optomotor/locustVR/GN25004/20250624/choices/session1\n",
      "/Volumes/AG_Couzin-Fuchs/DATA/experiment_trackball_Optomotor/locustVR/GN25007/20250625/choices/session1\n",
      "/Volumes/AG_Couzin-Fuchs/DATA/experiment_trackball_Optomotor/locustVR/GN25008/20250625/choices/session1\n",
      "/Volumes/AG_Couzin-Fuchs/DATA/experiment_trackball_Optomotor/locustVR/GN25009/20250625/choices/session1\n",
      "/Volumes/AG_Couzin-Fuchs/DATA/experiment_trackball_Optomotor/locustVR/GN25011/20250625/choices/session1\n",
      "/Volumes/AG_Couzin-Fuchs/DATA/experiment_trackball_Optomotor/locustVR/GN25012/20250626/choices/session1\n",
      "/Volumes/AG_Couzin-Fuchs/DATA/experiment_trackball_Optomotor/locustVR/GN25013/20250626/choices/session1\n",
      "/Volumes/AG_Couzin-Fuchs/DATA/experiment_trackball_Optomotor/locustVR/GN25014/20250626/choices/session1\n",
      "/Volumes/AG_Couzin-Fuchs/DATA/experiment_trackball_Optomotor/locustVR/GN25015/20250626/choices/session1\n",
      "/Volumes/AG_Couzin-Fuchs/DATA/experiment_trackball_Optomotor/locustVR/GN25016/20250626/choices/session1\n",
      "/Volumes/AG_Couzin-Fuchs/DATA/experiment_trackball_Optomotor/locustVR/GN25017/20250627/choices/session1\n",
      "/Volumes/AG_Couzin-Fuchs/DATA/experiment_trackball_Optomotor/locustVR/GN25018/20250627/choices/session1\n",
      "/Volumes/AG_Couzin-Fuchs/DATA/experiment_trackball_Optomotor/locustVR/GN25020/20250701/choices/session1\n",
      "/Volumes/AG_Couzin-Fuchs/DATA/experiment_trackball_Optomotor/locustVR/GN25021/20250701/choices/session1\n",
      "/Volumes/AG_Couzin-Fuchs/DATA/experiment_trackball_Optomotor/locustVR/GN25022/20250702/choices/session1\n",
      "/Volumes/AG_Couzin-Fuchs/DATA/experiment_trackball_Optomotor/locustVR/GN25023/20250702/choices/session1\n",
      "/Volumes/AG_Couzin-Fuchs/DATA/experiment_trackball_Optomotor/locustVR/GN25024/20250702/choices/session1\n",
      "/Volumes/AG_Couzin-Fuchs/DATA/experiment_trackball_Optomotor/locustVR/GN25025/20250702/choices/session1\n",
      "/Volumes/AG_Couzin-Fuchs/DATA/experiment_trackball_Optomotor/locustVR/GN25026/20250702/choices/session1\n",
      "/Volumes/AG_Couzin-Fuchs/DATA/experiment_trackball_Optomotor/locustVR/GN25027/20250708/choices/session1\n",
      "/Volumes/AG_Couzin-Fuchs/DATA/experiment_trackball_Optomotor/locustVR/GN25030/20250708/choices/session1\n",
      "/Volumes/AG_Couzin-Fuchs/DATA/experiment_trackball_Optomotor/locustVR/GN25031/20250709/choices/session1\n",
      "/Volumes/AG_Couzin-Fuchs/DATA/experiment_trackball_Optomotor/locustVR/GN25032/20250709/choices/session1\n",
      "/Volumes/AG_Couzin-Fuchs/DATA/experiment_trackball_Optomotor/locustVR/GN25033/20250709/choices/session1\n",
      "/Volumes/AG_Couzin-Fuchs/DATA/experiment_trackball_Optomotor/locustVR/GN25034/20250709/choices/session1\n",
      "/Volumes/AG_Couzin-Fuchs/DATA/experiment_trackball_Optomotor/locustVR/GN25035/20250709/choices/session1\n",
      "/Volumes/AG_Couzin-Fuchs/DATA/experiment_trackball_Optomotor/locustVR/GN25036/20250710/choices/session1\n",
      "/Volumes/AG_Couzin-Fuchs/DATA/experiment_trackball_Optomotor/locustVR/GN25037/20250710/choices/session1\n",
      "/Volumes/AG_Couzin-Fuchs/DATA/experiment_trackball_Optomotor/locustVR/GN25038/20250710/choices/session1\n",
      "/Volumes/AG_Couzin-Fuchs/DATA/experiment_trackball_Optomotor/locustVR/GN25039/20250710/choices/session1\n",
      "/Volumes/AG_Couzin-Fuchs/DATA/experiment_trackball_Optomotor/locustVR/GN25040/20250710/choices/session1\n",
      "/Volumes/AG_Couzin-Fuchs/DATA/experiment_trackball_Optomotor/locustVR/GN25041/20250710/choices/session1\n"
     ]
    }
   ],
   "execution_count": 8,
   "source": [
    "# Define the path to your Excel file\n",
    "dir_list = []\n",
    "file_type=\".h5\"\n",
    "using_google_sheet=True\n",
    "sheet_name = 'LocustVR'\n",
    "if analysis_methods.get(\"load_individual_data\") == True:\n",
    "    if using_google_sheet==True:\n",
    "        # database_id = \"1UL4eEUrQMapx9xz11-IyOSlPBcep3I9vBJ2uGgVudb8\"\n",
    "        #         #https://docs.google.com/spreadsheets/d/1UL4eEUrQMapx9xz11-IyOSlPBcep3I9vBJ2uGgVudb8/edit?usp=sharing\n",
    "        # url = f\"https://docs.google.com/spreadsheets/d/{database_id}/gviz/tq?tqx=out:csv&sheet={sheet_name}\"\n",
    "        database_id = \"1UL4eEUrQMapx9xz11-IyOSlPBcep1I9vBJ2uGgVudb8\"\n",
    "                #https://docs.google.com/spreadsheets/d/1UL4eEUrQMapx9xz11-IyOSlPBcep1I9vBJ2uGgVudb8/edit?usp=sharing\n",
    "        url = f\"https://docs.google.com/spreadsheets/d/{database_id}/gviz/tq?tqx=out:csv&sheet={sheet_name}\"\n",
    "        #df = pd.read_excel(url, engine='openpyxl')## use this function if the file is not google sheet but uploaded excel file\n",
    "        df = pd.read_csv(url)\n",
    "    else:\n",
    "        excel_file_path = \"Z:/DATA/experiment_trackball_Optomotor/Locusts Management.xlsx\"\n",
    "        print(f\"using a database {excel_file_path} from the server but this file might be outdated\")\n",
    "        # Create a 'with' statement to open and read the Excel file\n",
    "        with pd.ExcelFile(excel_file_path) as xls:\n",
    "            # Read the Excel sheet into a DataFrame with the sheet name (folder name)\n",
    "            df = pd.read_excel(xls, sheet_name)\n",
    "        ##list up the conditions and answers as strings for input argument to select animal. One condition must pair with one answer\n",
    "    if analysis_methods.get(\"select_animals_by_condition\") == True:\n",
    "        animal_of_interest=select_animals_gpt(df,\"Excluding this animal from analysis (Usually when animals die or molt, T/F)\",\"F\")\n",
    "    else:\n",
    "        animal_of_interest=df\n",
    "\n",
    "    ID_array=animal_of_interest[\"ID\"].values\n",
    "    print(f\"Valid animals IDs: \\n {ID_array}\")\n",
    "    dir_list = [\n",
    "    root.replace(\"\\\\\", \"/\")\n",
    "    for root, _, files in os.walk(root_dir_data)\n",
    "    if any(ID in root for ID in ID_array)\n",
    "    and any(file.endswith(file_type) for file in files)]\n",
    "else:\n",
    "    for root, dirs, files in os.walk(root_dir_data):\n",
    "        for folder in dirs:\n",
    "            folder_path=os.path.join(root,folder)\n",
    "            if any(name.endswith(file_type) for name in os.listdir(folder_path)):\n",
    "                dir_list.append(folder_path.replace(\"\\\\\", \"/\"))\n",
    "dir_list.sort()\n",
    "print(\"Directories:\")\n",
    "for i in dir_list:\n",
    "    print(i)"
   ]
  },
  {
   "metadata": {},
   "cell_type": "markdown",
   "source": [
    "#### 1.2 Process data\n",
    "Input: \"XY_full.h5\" hdf5 file\n"
   ]
  },
  {
   "metadata": {},
   "cell_type": "code",
   "outputs": [],
   "execution_count": null,
   "source": [
    "file_name = \"/XY_full.h5\"\n",
    "pd_list = []\n",
    "for index, this_dir in enumerate(dir_list):\n",
    "    print(index, this_dir)\n",
    "    this_pd = pd.read_hdf(this_dir + file_name)\n",
    "    this_pd['animal_id'] = index\n",
    "    this_pd = reindex_t_by_state_transition(this_pd, transition_from=0, transition_to=(1, 2))\n",
    "    this_pd = align_and_flip_heading(this_pd)\n",
    "    this_pd = convert_trial_label(this_pd)\n",
    "    this_pd = align_trajectories(this_pd)\n",
    "    this_pd = flip_symmetric_states(this_pd)\n",
    "    this_pd = compute_directness_and_direction(this_pd)\n",
    "    pd_list.append(this_pd)\n",
    "\n",
    "df=pd.concat(pd_list,ignore_index=True)\n",
    "\n",
    "if save_pickle:\n",
    "    os.makedirs(save_path, exist_ok=True)\n",
    "    df.to_pickle(os.path.join(save_path, 'locustvr_data.pkl'))"
   ]
  },
  {
   "metadata": {},
   "cell_type": "markdown",
   "source": "### 2. Load data"
  },
  {
   "metadata": {
    "ExecuteTime": {
     "end_time": "2025-07-23T14:29:19.463952Z",
     "start_time": "2025-07-23T14:29:18.696158Z"
    }
   },
   "cell_type": "code",
   "source": "df = pd.read_pickle(os.path.join(save_path, 'locustvr_data.pkl'))",
   "outputs": [],
   "execution_count": 3
  },
  {
   "metadata": {
    "ExecuteTime": {
     "end_time": "2025-07-23T14:29:20.238181Z",
     "start_time": "2025-07-23T14:29:20.224822Z"
    }
   },
   "cell_type": "code",
   "source": "print(df)",
   "outputs": [
    {
     "name": "stdout",
     "output_type": "stream",
     "text": [
      "                   X           Y   heading     ts  trial_id  state_type  \\\n",
      "0          -0.004847   -0.001845  1.378215  -9408         0           0   \n",
      "1          -0.013489   -0.026297  1.335805  -9407         0           0   \n",
      "2          -0.021833   -0.050318  1.335805  -9406         0           0   \n",
      "3          -0.029885   -0.073905  1.408251  -9405         0           0   \n",
      "4          -0.037650   -0.097059  1.408251  -9404         0           0   \n",
      "...              ...         ...       ...    ...       ...         ...   \n",
      "12465392  109.279552  171.646029  4.477734   5029        35           2   \n",
      "12465393  109.280024  171.646185  4.333994   5030        35           2   \n",
      "12465394  109.280513  171.646394  4.333994   5031        35           2   \n",
      "12465395  109.281021  171.646658  4.379431   5032        35           2   \n",
      "12465396  109.281547  171.646980  4.379431   5033        35           2   \n",
      "\n",
      "          animal_id  heading_rel  heading_rel_flip  constant_distance  \\\n",
      "0                 0     0.949213          0.949213                  5   \n",
      "1                 0     0.906803          0.906803                  5   \n",
      "2                 0     0.906803          0.906803                  5   \n",
      "3                 0     0.979249          0.979249                  5   \n",
      "4                 0     0.979249          0.979249                  5   \n",
      "...             ...          ...               ...                ...   \n",
      "12465392         34    -0.835105          0.835105                 10   \n",
      "12465393         34    -0.978844          0.978844                 10   \n",
      "12465394         34    -0.978844          0.978844                 10   \n",
      "12465395         34    -0.933408          0.933408                 10   \n",
      "12465396         34    -0.933408          0.933408                 10   \n",
      "\n",
      "          constant_speed  X_aligned   Y_aligned      Y_flip  directness  \\\n",
      "0                      3  14.553062  -25.669771  -25.669771         NaN   \n",
      "1                      3  14.535033  -25.688414  -25.688414         NaN   \n",
      "2                      3  14.517453  -25.706787  -25.706787         NaN   \n",
      "3                      3  14.500319  -25.724887  -25.724887         NaN   \n",
      "4                      3  14.483626  -25.742712  -25.742712         NaN   \n",
      "...                  ...        ...         ...         ...         ...   \n",
      "12465392               5 -62.608694  114.126265 -114.126265    0.939482   \n",
      "12465393               5 -62.608556  114.126742 -114.126742    0.939482   \n",
      "12465394               5 -62.608452  114.127264 -114.127264    0.939482   \n",
      "12465395               5 -62.608383  114.127832 -114.127832    0.939482   \n",
      "12465396               5 -62.608351  114.128448 -114.128448    0.939482   \n",
      "\n",
      "          angle_direct  \n",
      "0                  NaN  \n",
      "1                  NaN  \n",
      "2                  NaN  \n",
      "3                  NaN  \n",
      "4                  NaN  \n",
      "...                ...  \n",
      "12465392      1.069046  \n",
      "12465393      1.069046  \n",
      "12465394      1.069046  \n",
      "12465395      1.069046  \n",
      "12465396      1.069046  \n",
      "\n",
      "[12465397 rows x 16 columns]\n"
     ]
    }
   ],
   "execution_count": 4
  },
  {
   "metadata": {
    "ExecuteTime": {
     "end_time": "2025-07-23T14:29:21.725872Z",
     "start_time": "2025-07-23T14:29:21.377169Z"
    }
   },
   "cell_type": "code",
   "source": [
    "grouped = df.groupby(\"animal_id\")[\"trial_id\"].agg([\"max\", \"nunique\"])\n",
    "print(grouped)"
   ],
   "outputs": [
    {
     "name": "stdout",
     "output_type": "stream",
     "text": [
      "           max  nunique\n",
      "animal_id              \n",
      "0           30       31\n",
      "1           21       22\n",
      "2           27       28\n",
      "3           33       34\n",
      "4           28       29\n",
      "5           32       33\n",
      "6           26       27\n",
      "7           34       35\n",
      "8            6        7\n",
      "9           30       31\n",
      "10          25       26\n",
      "11          21       22\n",
      "12          25       26\n",
      "13          26       27\n",
      "14          18       19\n",
      "15          35       36\n",
      "16          34       35\n",
      "17          31       32\n",
      "18          14       15\n",
      "19          31       32\n",
      "20          29       30\n",
      "21          31       32\n",
      "22          32       33\n",
      "23          31       32\n",
      "24          34       35\n",
      "25          23       24\n",
      "26          21       22\n",
      "27          32       33\n",
      "28          27       28\n",
      "29          26       27\n",
      "30           6        7\n",
      "31          35       36\n",
      "32          32       33\n",
      "33           5        6\n",
      "34          35       36\n"
     ]
    }
   ],
   "execution_count": 5
  },
  {
   "metadata": {},
   "cell_type": "code",
   "outputs": [],
   "execution_count": null,
   "source": ""
  }
 ],
 "metadata": {
  "kernelspec": {
   "display_name": "matrexvr_analysis",
   "language": "python",
   "name": "python3"
  },
  "language_info": {
   "codemirror_mode": {
    "name": "ipython",
    "version": 3
   },
   "file_extension": ".py",
   "mimetype": "text/x-python",
   "name": "python",
   "nbconvert_exporter": "python",
   "pygments_lexer": "ipython3",
   "version": "3.11.10"
  }
 },
 "nbformat": 4,
 "nbformat_minor": 4
}
