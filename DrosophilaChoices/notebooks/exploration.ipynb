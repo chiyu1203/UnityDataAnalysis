{
 "cells": [
  {
   "cell_type": "code",
   "execution_count": 3,
   "metadata": {},
   "outputs": [],
   "source": [
    "# If running as a script, include these imports\n",
    "import sys\n",
    "import os\n",
    "import numpy as np\n",
    "import pandas as pd\n",
    "\n",
    "# Add the src directory to the Python path if running as a Jupyter notebook\n",
    "sys.path.append(os.path.abspath(os.path.join('..', 'src')))\n",
    "\n",
    "# Import necessary functions\n",
    "from data_loading import load_data\n",
    "from preprocessing import add_run_id, transform_positions, add_unique_run_id, filter_by_mean_speed, filter_by_total_displacement\n",
    "from visualization import plot_trajectories_by_run_id, plot_polar_histograms_by_run_id, plot_transformed_trajectories_by_run_id, plot_comparison_trajectories_by_run_id, plot_all_trajectories_by_unique_run_id, plot_polar_histogram_with_red_lines\n",
    "from analysis import identify_tracking_errors, classify_activity\n",
    "\n",
    "# List of timestamps\n",
    "\"\"\"timestamps = [\n",
    "    '20240516_141440',\n",
    "    '20240516_120014',\n",
    "    '20240516_145531',\n",
    "    '20240515_152558',\n",
    "    '20240516_110814'\n",
    "]\"\"\"\n",
    "\n",
    "\"\"\"timestamps = [\n",
    "    '20240612_170018',\n",
    "    '20240612_154206',\n",
    "    '20240612_135530',\n",
    "    '20240612_124511',\n",
    "    '20240612_111503'\n",
    "]\"\"\"\n",
    "\"\"\"timestamps = [\n",
    "    '20240605_161717',\n",
    "    '20240605_145901',\n",
    "    '20240605_135900'\n",
    "]\"\"\"\n",
    "timestamps = [\n",
    "    '20240704_181020'\n",
    "\n",
    "\n",
    "    \n",
    "]\n",
    "# Directory path (assuming the structure is consistent for all runs)\n",
    "base_directory_path = '~/Documents/GitHub/matrexVR/opto_choice_Data/RunData/'\n",
    "\n",
    "# Initialize an empty list to store processed DataFrames\n",
    "all_dfs = []\n",
    "\n",
    "for timestamp in timestamps:\n",
    "    directory_path = base_directory_path + timestamp + '/'\n",
    "    df1, df2, df3, df4 = load_data(timestamp, directory_path)\n",
    "    dfs = [df1, df2, df3, df4]\n",
    "    all_dfs.extend(dfs)\n",
    "\n",
    "all_dfs = [add_run_id(df) for df in all_dfs]\n",
    "all_dfs = [add_unique_run_id(df) for df in all_dfs]\n",
    "all_dfs = [transform_positions(df) for df in all_dfs]\n"
   ]
  },
  {
   "cell_type": "code",
   "execution_count": 4,
   "metadata": {},
   "outputs": [],
   "source": [
    "speed_filtered_dfs = filter_by_mean_speed(all_dfs, speed_threshold=20)"
   ]
  },
  {
   "cell_type": "code",
   "execution_count": 5,
   "metadata": {},
   "outputs": [],
   "source": [
    "filtered_dfs = filter_by_total_displacement(speed_filtered_dfs, distance_threshold=25)"
   ]
  },
  {
   "cell_type": "code",
   "execution_count": 6,
   "metadata": {},
   "outputs": [],
   "source": [
    "angles = [[0], [180], [15, 345], [165, 195], [45, 313], [135, 225], [75, 285], [105, 255], [90, 270]]"
   ]
  },
  {
   "cell_type": "code",
   "execution_count": 16,
   "metadata": {},
   "outputs": [
    {
     "name": "stdout",
     "output_type": "stream",
     "text": [
      "['Optomotor']\n"
     ]
    }
   ],
   "source": [
    "combined_df = df3\n",
    "print(combined_df['Scene'].unique())\n",
    "#print(combined_df[combined_df['CurrentStep'] == 0])"
   ]
  },
  {
   "cell_type": "code",
   "execution_count": 14,
   "metadata": {},
   "outputs": [],
   "source": [
    "combined_df = df1\n",
    "combined_df = combined_df[combined_df['CurrentStep'] == 0]\n",
    "rot_y_values = combined_df[combined_df['GameObjectRotY'] != 0]['GameObjectRotY']"
   ]
  },
  {
   "cell_type": "code",
   "execution_count": 15,
   "metadata": {},
   "outputs": [
    {
     "name": "stdout",
     "output_type": "stream",
     "text": [
      "Polar Histogram - Step 0\n"
     ]
    }
   ],
   "source": [
    "title_prefix=\"Polar Histogram\"\n",
    "print(f\"{title_prefix} - Step {combined_df['CurrentStep'].iloc[0]}\")"
   ]
  },
  {
   "cell_type": "code",
   "execution_count": null,
   "metadata": {},
   "outputs": [],
   "source": [
    "i = 0\n",
    "for angle in angles:\n",
    "    print(i)\n",
    "    plot_all_trajectories_by_unique_run_id(filtered_dfs,i)\n",
    "    plot_polar_histogram_with_red_lines(filtered_dfs,i,red_lines = angle)\n",
    "    i += 1"
   ]
  },
  {
   "cell_type": "code",
   "execution_count": null,
   "metadata": {},
   "outputs": [],
   "source": [
    "#plot speed over time\n",
    "import matplotlib.pyplot as plt\n",
    "import matplotlib.dates as mdates\n",
    "import pandas as pd\n",
    "\n",
    "# Create a figure and axis\n",
    "fig, ax = plt.subplots(figsize=(10, 6))\n",
    "\n",
    "# Plot the speed over time for each run 0\n",
    "df = all_dfs[1]\n",
    "ax.plot(df['Current Time'], df['speed_mm_s'], label='Run 0')\n",
    "\n",
    "#yaxis range 0, 1000\n",
    "ax.set_ylim(0, 50)\n",
    "# Set the title and labels\n",
    "ax.set_title('Speed over Time')\n",
    "ax.set_xlabel('Time')\n",
    "ax.set_ylabel('Speed (mm/s)')\n",
    "ax.legend()\n"
   ]
  },
  {
   "cell_type": "code",
   "execution_count": null,
   "metadata": {},
   "outputs": [],
   "source": [
    "#plot speed over time\n",
    "import matplotlib.pyplot as plt\n",
    "import matplotlib.dates as mdates\n",
    "import pandas as pd\n",
    "\n",
    "# Create a figure and axis\n",
    "fig, ax = plt.subplots(figsize=(10, 6))\n",
    "\n",
    "# Plot the speed over time for each run 0\n",
    "df = all_dfs[1]\n",
    "ax.plot(df['Current Time'], df['speed_mm_s'], label='Run 0')\n",
    "\n",
    "#yaxis range 0, 1000\n",
    "ax.set_ylim(0, 50)\n",
    "# Set the title and labels\n",
    "ax.set_title('Speed over Time')\n",
    "ax.set_xlabel('Time')\n",
    "ax.set_ylabel('Speed (mm/s)')\n",
    "ax.legend()\n"
   ]
  },
  {
   "cell_type": "code",
   "execution_count": null,
   "metadata": {},
   "outputs": [],
   "source": [
    "# Create a figure and axis\n",
    "fig, ax = plt.subplots(figsize=(10, 6))\n",
    "\n",
    "# Plot the speed over time for each run 0\n",
    "df = all_dfs[2]\n",
    "ax.plot(df['Current Time'], df['speed_mm_s'], label='Run 0')\n",
    "\n",
    "#yaxis range 0, 1000\n",
    "ax.set_ylim(0, 200)\n",
    "# Set the title and labels\n",
    "ax.set_title('Speed over Time')\n",
    "ax.set_xlabel('Time')\n",
    "ax.set_ylabel('Speed (mm/s)')\n",
    "ax.legend()"
   ]
  },
  {
   "cell_type": "code",
   "execution_count": null,
   "metadata": {},
   "outputs": [],
   "source": [
    "#plot speed over time in a rolling time averaged window\n",
    "# Create a figure and axis\n",
    "fig, ax = plt.subplots(figsize=(10, 6))\n",
    "\n",
    "# Plot the speed over time for each run 0\n",
    "df = all_dfs[5]\n",
    "df['speed_mm_s'].rolling(window=20).mean().plot(ax=ax, label='Run 0')\n",
    "\n",
    "#yaxis range 0, 1000\n",
    "ax.set_ylim(0, 200)\n",
    "ax.set_xlim(420000, 500000)\n",
    "# Set the title and labels\n",
    "ax.set_title('Speed over Time')\n",
    "ax.set_xlabel('Time')\n",
    "ax.set_ylabel('Speed (mm/s)')\n",
    "ax.legend()\n"
   ]
  },
  {
   "cell_type": "code",
   "execution_count": null,
   "metadata": {},
   "outputs": [],
   "source": [
    "'''i = 0\n",
    "for df in all_dfs:\n",
    "    print(i)\n",
    "    plot_trajectories_by_run_id(df)\n",
    "    i += 1'''"
   ]
  },
  {
   "cell_type": "code",
   "execution_count": null,
   "metadata": {},
   "outputs": [],
   "source": [
    "#only above 500\n",
    "df['speedmm/s'][df['speedmm/s']<500].hist(bins=100,log = True)"
   ]
  },
  {
   "cell_type": "code",
   "execution_count": null,
   "metadata": {},
   "outputs": [],
   "source": [
    "#do it for all dataframes together\n",
    "import pandas as pd\n",
    "all_dfs_concat = pd.concat(all_dfs)\n",
    "all_dfs_concat['speedmm/s'][all_dfs_concat['speedmm/s']<200].hist(bins=100)"
   ]
  }
 ],
 "metadata": {
  "kernelspec": {
   "display_name": "transcriptome_env",
   "language": "python",
   "name": "python3"
  },
  "language_info": {
   "codemirror_mode": {
    "name": "ipython",
    "version": 3
   },
   "file_extension": ".py",
   "mimetype": "text/x-python",
   "name": "python",
   "nbconvert_exporter": "python",
   "pygments_lexer": "ipython3",
   "version": "3.12.2"
  }
 },
 "nbformat": 4,
 "nbformat_minor": 2
}
