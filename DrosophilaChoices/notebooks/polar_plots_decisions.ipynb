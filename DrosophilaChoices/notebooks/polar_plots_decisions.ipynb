{
 "cells": [
  {
   "cell_type": "code",
   "execution_count": null,
   "metadata": {},
   "outputs": [],
   "source": [
    "import pandas as pd\n",
    "\n",
    "#timestamp = '20231115_134106'\n",
    "#timestamp = '20231115_122414'\n",
    "timestamp = '20231115_122730'\n",
    "#timestamp = '20231115_133501'\n",
    "\n",
    "\n",
    "# Directory path\n",
    "directory_path = f'/home/insectvr/src/build/20231115_decisions_Data/RunData/{timestamp}/'\n",
    "\n",
    "# Full paths for each file\n",
    "file_path1 = directory_path + f'{timestamp}_ChoiceAssay_VR1_.csv'\n",
    "file_path2 = directory_path + f'{timestamp}_ChoiceAssay_VR2_.csv'\n",
    "file_path3 = directory_path + f'{timestamp}_ChoiceAssay_VR3_.csv'\n",
    "file_path4 = directory_path + f'{timestamp}_ChoiceAssay_VR4_.csv'\n",
    "\n",
    "# Load the files into DataFrames\n",
    "df1 = pd.read_csv(file_path1)\n",
    "df2 = pd.read_csv(file_path2)\n",
    "df3 = pd.read_csv(file_path3)\n",
    "df4 = pd.read_csv(file_path4)\n",
    "\n",
    "# Display the first few rows of each DataFrame to confirm\n",
    "print(\"DataFrame 1:\")\n",
    "print(df1.head())\n",
    "print(\"\\nDataFrame 2:\")\n",
    "print(df2.head())\n",
    "print(\"\\nDataFrame 3:\")\n",
    "print(df3.head())\n",
    "print(\"\\nDataFrame 4:\")\n",
    "print(df4.head())\n"
   ]
  },
  {
   "cell_type": "code",
   "execution_count": 27,
   "metadata": {},
   "outputs": [
    {
     "data": {
      "text/plain": [
       "185756"
      ]
     },
     "execution_count": 27,
     "metadata": {},
     "output_type": "execute_result"
    }
   ],
   "source": [
    "len(df4)"
   ]
  },
  {
   "cell_type": "code",
   "execution_count": 29,
   "metadata": {},
   "outputs": [
    {
     "data": {
      "text/plain": [
       "185755"
      ]
     },
     "execution_count": 29,
     "metadata": {},
     "output_type": "execute_result"
    }
   ],
   "source": [
    "len(df3)"
   ]
  },
  {
   "cell_type": "code",
   "execution_count": null,
   "metadata": {},
   "outputs": [],
   "source": [
    "import pandas as pd\n",
    "import matplotlib.pyplot as plt\n",
    "import numpy as np\n",
    "\n",
    "# Assuming df1, df2, df3, and df4 are already loaded\n",
    "\n",
    "# Add a column to each DataFrame to identify its source\n",
    "df1['source'] = 'df1'\n",
    "df2['source'] = 'df2'\n",
    "df3['source'] = 'df3'\n",
    "df4['source'] = 'df4'\n",
    "\n",
    "\n",
    "# Combine all DataFrames into one\n",
    "combined_df = pd.concat([df1, df2, df3, df4])\n",
    "\n",
    "# Function to plot polar histograms for each DataFrame side by side\n",
    "def plot_combined_polar_histograms(combined_df, scene_value):\n",
    "    # Filter the DataFrame for the given scene value\n",
    "    filtered_df = combined_df[combined_df['Scene'] == scene_value]\n",
    "    \n",
    "    # Get the unique sources\n",
    "    sources = filtered_df['source'].unique()\n",
    "\n",
    "    # Number of bins for the histogram\n",
    "    num_bins = 36\n",
    "\n",
    "    # Create a figure with subplots\n",
    "    fig, axes = plt.subplots(1, len(sources), subplot_kw=dict(polar=True), figsize=(15, 6))\n",
    "\n",
    "    for ax, source in zip(axes, sources):\n",
    "        # Filter by source\n",
    "        source_df = filtered_df[filtered_df['source'] == source]\n",
    "\n",
    "        # Extract the GameObjectRotX values\n",
    "        rot_x_values = source_df['GameObjectRotX']\n",
    "\n",
    "        # Compute histogram\n",
    "        counts, bin_edges = np.histogram(rot_x_values, bins=num_bins, range=(0, 2*np.pi))\n",
    "        bin_centers = (bin_edges[:-1] + bin_edges[1:]) / 2\n",
    "\n",
    "        # Plot the histogram\n",
    "        ax.bar(bin_centers, counts, width=bin_edges[1] - bin_edges[0], edgecolor='k')\n",
    "        ax.set_title(f'{source} - Scene {scene_value}')\n",
    "        ax.set_theta_zero_location('N')\n",
    "        ax.set_theta_direction(-1)\n",
    "\n",
    "\n",
    "    # Adjust layout and show plot\n",
    "    plt.tight_layout()\n",
    "    plt.show()\n",
    "\n",
    "# Example usage for a specific scene value\n",
    "scene_values = combined_df['Scene'].unique()\n",
    "for scene in scene_values:\n",
    "    plot_combined_polar_histograms(combined_df, scene)\n"
   ]
  },
  {
   "cell_type": "code",
   "execution_count": null,
   "metadata": {},
   "outputs": [],
   "source": [
    "import pandas as pd\n",
    "import matplotlib.pyplot as plt\n",
    "\n",
    "# Assuming df1, df2, df3, and df4 are already loaded\n",
    "\n",
    "# Add a column to each DataFrame to identify its source\n",
    "df1['source'] = 'df1'\n",
    "df2['source'] = 'df2'\n",
    "df3['source'] = 'df3'\n",
    "\n",
    "\n",
    "# Combine all DataFrames into one\n",
    "combined_df = pd.concat([df1, df2, df3])\n",
    "\n",
    "# Function to plot CurrentStep vs GameObjectPosY for each DataFrame\n",
    "def plot_combined_steps_vs_posy(combined_df, scene_value):\n",
    "    # Filter the DataFrame for the given scene value\n",
    "    filtered_df = combined_df[combined_df['Scene'] == scene_value]\n",
    "    \n",
    "    # Get the unique sources\n",
    "    sources = filtered_df['source'].unique()\n",
    "\n",
    "    # Create a figure with subplots\n",
    "    fig, axes = plt.subplots(1, len(sources), figsize=(15, 6))\n",
    "\n",
    "    for ax, source in zip(axes, sources):\n",
    "        # Filter by source\n",
    "        source_df = filtered_df[filtered_df['source'] == source]\n",
    "\n",
    "        # Plot CurrentStep vs GameObjectPosY\n",
    "        ax.scatter(source_df['SensPosY'], source_df['SensPosZ'])\n",
    "        ax.set_title(f'{source} - Scene {scene_value}')\n",
    "        ax.set_xlabel('fictracX')\n",
    "        ax.set_ylabel('fictracY')\n",
    "\n",
    "    # Adjust layout and show plot\n",
    "    plt.tight_layout()\n",
    "    plt.show()\n",
    "\n",
    "# Example usage for a specific scene value\n",
    "scene_values = combined_df['Scene'].unique()\n",
    "for scene in scene_values:\n",
    "    plot_combined_steps_vs_posy(combined_df, scene)\n"
   ]
  }
 ],
 "metadata": {
  "kernelspec": {
   "display_name": "data_analysis",
   "language": "python",
   "name": "python3"
  },
  "language_info": {
   "codemirror_mode": {
    "name": "ipython",
    "version": 3
   },
   "file_extension": ".py",
   "mimetype": "text/x-python",
   "name": "python",
   "nbconvert_exporter": "python",
   "pygments_lexer": "ipython3",
   "version": "3.10.8"
  }
 },
 "nbformat": 4,
 "nbformat_minor": 2
}
