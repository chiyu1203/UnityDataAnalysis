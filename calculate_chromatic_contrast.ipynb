{
 "cells": [
  {
   "cell_type": "code",
   "execution_count": 1,
   "metadata": {},
   "outputs": [],
   "source": [
    "import os,json,sys,itertools\n",
    "from pathlib import Path\n",
    "import numpy as np\n",
    "import pandas as pd\n",
    "import matplotlib.pyplot as plt\n",
    "##need to add this additional cell because useful tools are in another folder. Need to integrate these two folders one day\n",
    "current_working_directory = Path.cwd()\n",
    "parent_dir = current_working_directory.resolve().parents[0]\n",
    "sys.path.insert(0, str(parent_dir) + \"\\\\utilities\")\n",
    "from useful_tools import select_animals_gpt,find_file\n",
    "from quantify_color_spectrum import load_color_spectrum"
   ]
  },
  {
   "cell_type": "code",
   "execution_count": 2,
   "metadata": {},
   "outputs": [],
   "source": [
    "##introduce some helper class to define colour gradient\n",
    "import matplotlib as mpl\n",
    "from matplotlib import cm\n",
    "class MplColorHelper:\n",
    "    def __init__(self, cmap_name, start_val, stop_val):\n",
    "        self.cmap_name = cmap_name\n",
    "        self.cmap = plt.get_cmap(cmap_name)\n",
    "        self.norm = mpl.colors.Normalize(vmin=start_val, vmax=stop_val)\n",
    "        self.scalarMap = cm.ScalarMappable(norm=self.norm, cmap=self.cmap)\n",
    "\n",
    "    def get_rgb(self, val):\n",
    "        return self.scalarMap.to_rgba(val)\n",
    "colormap_name = \"viridis\"\n",
    "#colormap_name = \"cool\"\n",
    "colormap_name=\"Set1\""
   ]
  },
  {
   "cell_type": "code",
   "execution_count": 3,
   "metadata": {},
   "outputs": [],
   "source": [
    "def list_up_files(thisDataset,file_type=\".txt\"):\n",
    "    dir_list=[]\n",
    "    for root, dirs, files in os.walk(thisDataset):\n",
    "        for folder in dirs:\n",
    "            folder_path=os.path.join(root,folder)\n",
    "            for name in os.listdir(folder_path):\n",
    "                if name.endswith(file_type):\n",
    "                    this_file_dir=os.path.join(folder_path.replace(\"\\\\\", \"/\"),name)\n",
    "                    dir_list.append(this_file_dir.replace(\"\\\\\", \"/\"))\n",
    "    return dir_list"
   ]
  },
  {
   "cell_type": "code",
   "execution_count": 4,
   "metadata": {},
   "outputs": [],
   "source": [
    "#sort list according to their time\n",
    "def last_nchars(x):\n",
    "    return(x[-16:])"
   ]
  },
  {
   "cell_type": "code",
   "execution_count": null,
   "metadata": {},
   "outputs": [],
   "source": [
    "## data for gamma correction\n",
    "multiple_trials=True\n",
    "if multiple_trials:\n",
    "    folders=[\"gray_scale\",\"red_scale\",\"green_scale\",\"blue_scale\"]\n",
    "    Dataset_dir =Path(\"C:/Users/neuroPC/Documents/color_spetrum/matrexVR_20241104\")\n",
    "else:\n",
    "    folders=[\"gray\",\"red\",\"green\",\"blue\"]\n",
    "    Dataset_dir =Path(\"C:/Users/neuroPC/Documents/color_spetrum/matrexVR_20241127\")\n",
    "mean_auc_list=[]\n",
    "for this_folder in folders:\n",
    "    thisDataset=Dataset_dir / f\"{this_folder}\"\n",
    "    if multiple_trials:\n",
    "        dir_list=list_up_files(thisDataset)\n",
    "    else:\n",
    "        dir_list=[os.path.join(str(thisDataset),s) for s in os.listdir(str(thisDataset))]\n",
    "    sorted_data_list=sorted(dir_list, key = last_nchars)\n",
    "    auc_list=[]\n",
    "    wavelength_list=[]\n",
    "    for this_dir in sorted_data_list:\n",
    "        if \"archive\" in this_dir:\n",
    "            continue\n",
    "        else:\n",
    "            auc, wavelength=load_color_spectrum(this_dir)\n",
    "            auc_list.append(auc)\n",
    "            wavelength_list.append(wavelength)\n",
    "    if multiple_trials:\n",
    "        auc_array=np.reshape(np.array(auc_list),(2,-1))\n",
    "        mean_auc_list.append(np.mean(auc_array,axis=0))\n",
    "    else:\n",
    "        mean_auc_list.append(np.array(auc_list))"
   ]
  },
  {
   "cell_type": "code",
   "execution_count": null,
   "metadata": {},
   "outputs": [],
   "source": [
    "#folders=[\"gregarious\",\"yellow1\",\"yellow2\",\"green\",\"white\",\"black\",\"3Dwhite\",\"3Dblack\"]\n",
    "folders=[\"gregarious\",\"yellow1\",\"yellow2\",\"green\",\"white\",\"black\"]\n",
    "exp=\"choice\"\n",
    "Dataset_dir =Path(\"C:/Users/neuroPC/Documents/color_spetrum/matrexVR_20241127\")\n",
    "mean_auc_list=[]\n",
    "for this_folder in folders:\n",
    "    thisDataset=Dataset_dir / f\"{exp}_{this_folder}\"\n",
    "    dir_list=[os.path.join(str(thisDataset),s) for s in os.listdir(str(thisDataset))]\n",
    "    sorted_data_list=sorted(dir_list, key = last_nchars)\n",
    "    auc_list=[]\n",
    "    wavelength_list=[]\n",
    "    for this_dir in sorted_data_list:\n",
    "        if \"archive\" in this_dir:\n",
    "            print(f\"skip archive folder for {this_dir}\")\n",
    "            continue\n",
    "        else:\n",
    "            print(f\"no curated matrexvr h5 database in {this_dir}. Create curated file\")\n",
    "            auc, wavelength=load_color_spectrum(this_dir)\n",
    "            auc_list.append(auc)\n",
    "            wavelength_list.append(wavelength)\n",
    "    #auc_array=np.reshape(np.array(auc_list),(2,-1))\n",
    "    #mean_auc_list.append(auc_array[1,:])\n",
    "    mean_auc_list.append(np.array(auc_list))"
   ]
  },
  {
   "cell_type": "code",
   "execution_count": null,
   "metadata": {},
   "outputs": [],
   "source": [
    "#thisDataset=Path(\"C:/Users/neuroPC/Documents/color_spetrum/matrexVR_20241127/background\") background1 has problems during the acqusition\n",
    "thisDataset=Path(\"C:/Users/neuroPC/Documents/color_spetrum/matrexVR_20241127/background2\")\n",
    "dir_list=[os.path.join(str(thisDataset),s) for s in os.listdir(str(thisDataset))]\n",
    "sorted_data_list=sorted(dir_list, key = last_nchars)\n",
    "auc_list=[]\n",
    "wavelength_list=[]\n",
    "for this_dir in sorted_data_list:\n",
    "    if \"archive\" in this_dir:\n",
    "        print(f\"skip archive folder for {this_dir}\")\n",
    "        continue\n",
    "    else:\n",
    "        print(f\"no curated matrexvr h5 database in {this_dir}. Create curated file\")\n",
    "        auc, wavelength=load_color_spectrum(this_dir)\n",
    "        auc_list.append(auc)\n",
    "        wavelength_list.append(wavelength)"
   ]
  },
  {
   "cell_type": "code",
   "execution_count": null,
   "metadata": {},
   "outputs": [],
   "source": [
    "if exp==\"choice\":\n",
    "    choice_mean_auc_list=mean_auc_list\n",
    "    auc_array_conditions=np.vstack(choice_mean_auc_list)\n",
    "else:\n",
    "    band_mean_auc_list=mean_auc_list\n",
    "    auc_array_conditions=np.vstack(band_mean_auc_list)"
   ]
  },
  {
   "cell_type": "code",
   "execution_count": 9,
   "metadata": {},
   "outputs": [],
   "source": [
    "background=np.array(auc_list)"
   ]
  },
  {
   "cell_type": "code",
   "execution_count": 10,
   "metadata": {},
   "outputs": [],
   "source": [
    "background=background[0:16]"
   ]
  },
  {
   "cell_type": "code",
   "execution_count": 77,
   "metadata": {},
   "outputs": [],
   "source": [
    "background2=np.array(auc_list)"
   ]
  },
  {
   "cell_type": "code",
   "execution_count": 11,
   "metadata": {},
   "outputs": [],
   "source": [
    "m_contrast=abs(auc_array_conditions-background)/(auc_array_conditions+background)\n",
    "w_contrast=(auc_array_conditions-background)/background"
   ]
  },
  {
   "cell_type": "code",
   "execution_count": 16,
   "metadata": {},
   "outputs": [],
   "source": [
    "COL = MplColorHelper(colormap_name, 0, m_contrast.shape[0]-1)\n",
    "sm = cm.ScalarMappable(cmap=colormap_name)\n",
    "graph_colour_code=[\"r\",\"m\",\"y\",\"g\",\"c\",\"k\"]"
   ]
  },
  {
   "cell_type": "code",
   "execution_count": null,
   "metadata": {},
   "outputs": [],
   "source": [
    "fig, ax1 = plt.subplots(\n",
    "    nrows=1, ncols=1, figsize=(10, 10))\n",
    "for i in range(m_contrast.shape[0]):\n",
    "    ax1.plot(m_contrast[i,:-1],color=graph_colour_code[i],label=folders[i])\n",
    "ax1.legend(title='foreground category',prop={'size': 20})\n",
    "ax1.set(\n",
    "    xticks=[0,3,6,9,12,15],\n",
    "    xticklabels=(['0','0.2','0.4','0.6','0.8','1.0']),\n",
    "    xlabel=('Background Decimal RGB values (x,x,x)'),\n",
    "    ylabel= ('Michelson contrast (Max I - Min I)/(Max I + Min I)'),\n",
    "    #xlim=[0,15],\n",
    "    ylim=[-0.05,0.7])\n",
    "#background1 suggest the 7th has closest contrast between black and gregarious"
   ]
  },
  {
   "cell_type": "code",
   "execution_count": null,
   "metadata": {},
   "outputs": [],
   "source": [
    "#background  measurement\n",
    "plt.plot(np.arange(background.shape[0]),background)"
   ]
  }
 ],
 "metadata": {
  "kernelspec": {
   "display_name": "image_calib",
   "language": "python",
   "name": "python3"
  },
  "language_info": {
   "codemirror_mode": {
    "name": "ipython",
    "version": 3
   },
   "file_extension": ".py",
   "mimetype": "text/x-python",
   "name": "python",
   "nbconvert_exporter": "python",
   "pygments_lexer": "ipython3",
   "version": "3.10.4"
  }
 },
 "nbformat": 4,
 "nbformat_minor": 2
}
