{
 "cells": [
  {
   "cell_type": "code",
   "execution_count": null,
   "metadata": {},
   "outputs": [],
   "source": [
    "%reload_ext autoreload\n",
    "%autoreload 2\n",
    "'''\n",
    "if autoreload does not work, try import the python file as a module and then reload the file and the module\n",
    "import plotting_follow_analysis\n",
    "import importlib\n",
    "importlib.reload(plotting_follow_analysis)\n",
    "from plotting_follow_analysis import plot_follow_response_distribution'''"
   ]
  },
  {
   "cell_type": "code",
   "execution_count": null,
   "metadata": {},
   "outputs": [],
   "source": [
    "\n",
    "\n",
    "# Define the directory containing the files\n",
    "\n",
    "\n",
    "# Define the old and new prefixes\n",
    "old_prefix = \"whatever_\"\n",
    "new_prefix = \"fullscreen_\"\n",
    "\n",
    "# Iterate through the files in the directory\n",
    "for filename in os.listdir(directory):\n",
    "    if filename.startswith(old_prefix):  # Check if the file has the old prefix\n",
    "        new_name = filename.replace(old_prefix, new_prefix, 1)  # Replace the prefix\n",
    "        old_path = os.path.join(directory, filename)\n",
    "        new_path = os.path.join(directory, new_name)\n",
    "        os.rename(old_path, new_path)  # Rename the file\n",
    "        print(f\"Renamed: {filename} -> {new_name}\")"
   ]
  },
  {
   "cell_type": "code",
   "execution_count": null,
   "metadata": {},
   "outputs": [],
   "source": [
    "import os,json,sys,itertools\n",
    "from pathlib import Path\n",
    "import numpy as np\n",
    "import pandas as pd\n",
    "import matplotlib.pyplot as plt\n",
    "##need to add this additional cell because useful tools are in another folder. Need to integrate these two folders one day\n",
    "current_working_directory = Path.cwd()\n",
    "parent_dir = current_working_directory.resolve().parents[0]\n",
    "sys.path.insert(0, str(parent_dir) + \"\\\\utilities\")\n",
    "from useful_tools import select_animals_gpt,find_file\n",
    "from quantify_color_spectrum import load_color_spectrum"
   ]
  },
  {
   "cell_type": "code",
   "execution_count": null,
   "metadata": {},
   "outputs": [],
   "source": [
    "##introduce some helper class to define colour gradient\n",
    "import matplotlib as mpl\n",
    "from matplotlib import cm\n",
    "class MplColorHelper:\n",
    "    def __init__(self, cmap_name, start_val, stop_val):\n",
    "        self.cmap_name = cmap_name\n",
    "        self.cmap = plt.get_cmap(cmap_name)\n",
    "        self.norm = mpl.colors.Normalize(vmin=start_val, vmax=stop_val)\n",
    "        self.scalarMap = cm.ScalarMappable(norm=self.norm, cmap=self.cmap)\n",
    "\n",
    "    def get_rgb(self, val):\n",
    "        return self.scalarMap.to_rgba(val)\n",
    "colormap_name = \"viridis\"\n",
    "#colormap_name = \"cool\"\n",
    "colormap_name=\"Set1\""
   ]
  },
  {
   "cell_type": "code",
   "execution_count": null,
   "metadata": {},
   "outputs": [],
   "source": [
    "def list_up_files(thisDataset,file_type=\".txt\"):\n",
    "    dir_list=[]\n",
    "    for root, dirs, files in os.walk(thisDataset):\n",
    "        for folder in dirs:\n",
    "            folder_path=os.path.join(root,folder)\n",
    "            for name in os.listdir(folder_path):\n",
    "                if name.endswith(file_type):\n",
    "                    this_file_dir=os.path.join(folder_path.replace(\"\\\\\", \"/\"),name)\n",
    "                    dir_list.append(this_file_dir.replace(\"\\\\\", \"/\"))\n",
    "    return dir_list"
   ]
  },
  {
   "cell_type": "code",
   "execution_count": null,
   "metadata": {},
   "outputs": [],
   "source": [
    "auc_list=[]\n",
    "wavelength_list=[]\n",
    "#sort list according to their time\n",
    "directory = r\"C:\\Users\\neuroPC\\Documents\\color_spetrum\\Z745_VG279QM\"\n",
    "file_list=os.listdir(directory)\n",
    "def last_nchars(x):\n",
    "    return(x[-7:])\n",
    "sorted_file_list=sorted(file_list, key = last_nchars)\n",
    "for this_file in sorted_file_list[:-2]:\n",
    "    auc, wavelength=load_color_spectrum(os.path.join(directory, this_file),remove_uv_spectrum=True,add_opsin_sensitivity_weight=False,convert_irradiance_to_photon_energy=True,varying_integration_time=True)\n",
    "    auc_list.append(auc)\n",
    "    wavelength_list.append(wavelength)"
   ]
  },
  {
   "cell_type": "code",
   "execution_count": null,
   "metadata": {},
   "outputs": [],
   "source": [
    "rgb000=auc_list[1:11]\n",
    "mean_rbg000=np.mean(rgb000)\n",
    "gray_scale=auc_list[11:-30]\n",
    "gray_array=np.mean(np.array(gray_scale).reshape((10, -1)),axis=1)\n",
    "r_scale=auc_list[61:71]\n",
    "g_scale=auc_list[71:81]\n",
    "b_scale=auc_list[81:]\n",
    "r_array=np.array(r_scale)\n",
    "g_array=np.array(g_scale)\n",
    "b_array=np.array(b_scale)"
   ]
  },
  {
   "cell_type": "code",
   "execution_count": null,
   "metadata": {},
   "outputs": [],
   "source": [
    "gray_array = np.insert(gray_array, 0, min(gray_scale))\n",
    "r_array = np.insert(r_array, 0, min(r_array))\n",
    "g_array = np.insert(g_array, 0, min(g_array))\n",
    "b_array = np.insert(b_array, 0, min(b_array))"
   ]
  },
  {
   "cell_type": "code",
   "execution_count": null,
   "metadata": {},
   "outputs": [],
   "source": [
    "gray_array = np.insert(gray_array, 0, mean_rbg000)\n",
    "r_array = np.insert(r_array, 0, mean_rbg000)\n",
    "g_array = np.insert(g_array, 0, mean_rbg000)\n",
    "b_array = np.insert(b_array, 0, mean_rbg000)"
   ]
  },
  {
   "cell_type": "code",
   "execution_count": null,
   "metadata": {},
   "outputs": [],
   "source": [
    "np.savetxt('rgb_scale_4_gamma_calibration_20250805_no_opsin1.csv', np.vstack((gray_array,r_array,g_array,b_array)), delimiter=',')"
   ]
  },
  {
   "cell_type": "code",
   "execution_count": null,
   "metadata": {},
   "outputs": [],
   "source": [
    "#sort list according to their time\n",
    "def last_nchars(x):\n",
    "    return(x[-16:])"
   ]
  },
  {
   "cell_type": "code",
   "execution_count": null,
   "metadata": {},
   "outputs": [],
   "source": [
    "## data for gamma correction\n",
    "multiple_trials=False\n",
    "if multiple_trials:\n",
    "    folders=[\"gray_scale\",\"red_scale\",\"green_scale\",\"blue_scale\"]\n",
    "    Dataset_dir =Path(\"C:/Users/neuroPC/Documents/color_spetrum/matrexVR_20241104\")\n",
    "else:\n",
    "    folders=[\"gray\",\"red\",\"green\",\"blue\"]\n",
    "    Dataset_dir =Path(\"C:/Users/neuroPC/Documents/color_spetrum/matrexVR_20241127\")\n",
    "mean_auc_list=[]\n",
    "for this_folder in folders:\n",
    "    thisDataset=Dataset_dir / f\"{this_folder}\"\n",
    "    if multiple_trials:\n",
    "        dir_list=list_up_files(thisDataset)\n",
    "    else:\n",
    "        dir_list=[os.path.join(str(thisDataset),s) for s in os.listdir(str(thisDataset))]\n",
    "    sorted_data_list=sorted(dir_list, key = last_nchars)\n",
    "    auc_list=[]\n",
    "    wavelength_list=[]\n",
    "    for this_file_path in sorted_data_list:\n",
    "        print(f\"processing {this_file_path}\")\n",
    "        if \"archive\" in this_file_path:\n",
    "            continue\n",
    "        else:\n",
    "            auc, wavelength=load_color_spectrum(this_file_path,remove_uv_spectrum=False,add_opsin_sensitivity_weight=False,convert_irradiance_to_photon_energy=False)\n",
    "            auc_list.append(auc)\n",
    "            wavelength_list.append(wavelength)\n",
    "    if multiple_trials:\n",
    "        auc_array=np.reshape(np.array(auc_list),(2,-1))\n",
    "        mean_auc_list.append(np.mean(auc_array,axis=0))\n",
    "    else:\n",
    "        mean_auc_list.append(np.array(auc_list))"
   ]
  },
  {
   "cell_type": "code",
   "execution_count": null,
   "metadata": {},
   "outputs": [],
   "source": [
    "np.savetxt('rgb_scale_4_gamma_calibration.csv', np.vstack(mean_auc_list), delimiter=',')"
   ]
  },
  {
   "cell_type": "markdown",
   "metadata": {},
   "source": [
    "# Z745 measurement 17 levels of gray (from 0 to 1 with 0.0625 increment)\n",
    "# (5 + 1) foreground * 17 background = 102 combination\n",
    "# (1) 102 combination with 3 repeats at 5 different distance = 1530 measurement\n",
    "# Each measurement takes 5 seconds means the whole experiment takes 127.5 mins (7650 seconds)\n",
    "# (2) 102 combination with 3 repeats at 3 different distance = 918 measurement\n",
    "# Each measurement takes 5 seconds means the whole experiment takes 76.5 mins (4590 seconds)\n",
    "\n",
    "## in Computation of Object Approach by a Wide-Field, Motion-Sensitive Neuron \n",
    "# The luminance of the screen was calibrated linearly between 0 cd/m2 and a maximal luminance Imax of 95 cd/m2, as measured at a distance of 46 cm from the center of the screen with a photometer (PR-504 and PR-502; Photometer Research, Chatsworth, CA). \n",
    "\n"
   ]
  },
  {
   "cell_type": "code",
   "execution_count": null,
   "metadata": {},
   "outputs": [],
   "source": []
  },
  {
   "cell_type": "code",
   "execution_count": null,
   "metadata": {},
   "outputs": [],
   "source": [
    "#folders=[\"gregarious\",\"yellow1\",\"yellow2\",\"green\",\"white\",\"black\",\"3Dwhite\",\"3Dblack\"]\n",
    "folders=[\"gregarious\",\"yellow1\",\"yellow2\",\"green\",\"white\",\"black\"]\n",
    "exp=\"choice\"\n",
    "Dataset_dir =Path(\"C:/Users/neuroPC/Documents/color_spetrum/matrexVR_20241127\")\n",
    "mean_auc_list=[]\n",
    "for this_folder in folders:\n",
    "    thisDataset=Dataset_dir / f\"{exp}_{this_folder}\"\n",
    "    dir_list=[os.path.join(str(thisDataset),s) for s in os.listdir(str(thisDataset))]\n",
    "    sorted_data_list=sorted(dir_list, key = last_nchars)\n",
    "    auc_list=[]\n",
    "    wavelength_list=[]\n",
    "    for this_file_path in sorted_data_list:\n",
    "        if \"archive\" in this_file_path:\n",
    "            print(f\"skip archive folder for {this_file_path}\")\n",
    "            continue\n",
    "        else:\n",
    "            print(f\"no curated matrexvr h5 database in {this_file_path}. Create curated file\")\n",
    "            auc, wavelength=load_color_spectrum(this_file_path)\n",
    "            auc_list.append(auc)\n",
    "            wavelength_list.append(wavelength)\n",
    "    #auc_array=np.reshape(np.array(auc_list),(2,-1))\n",
    "    #mean_auc_list.append(auc_array[1,:])\n",
    "    mean_auc_list.append(np.array(auc_list))"
   ]
  },
  {
   "cell_type": "code",
   "execution_count": null,
   "metadata": {},
   "outputs": [],
   "source": [
    "#thisDataset=Path(\"C:/Users/neuroPC/Documents/color_spetrum/matrexVR_20241127/background\") background1 has problems during the acqusition\n",
    "thisDataset=Path(\"C:/Users/neuroPC/Documents/color_spetrum/matrexVR_20241127/background2\")\n",
    "dir_list=[os.path.join(str(thisDataset),s) for s in os.listdir(str(thisDataset))]\n",
    "sorted_data_list=sorted(dir_list, key = last_nchars)\n",
    "auc_list=[]\n",
    "wavelength_list=[]\n",
    "for this_file_path in sorted_data_list:\n",
    "    if \"archive\" in this_file_path:\n",
    "        print(f\"skip archive folder for {this_file_path}\")\n",
    "        continue\n",
    "    else:\n",
    "        print(f\"no curated matrexvr h5 database in {this_file_path}. Create curated file\")\n",
    "        auc, wavelength=load_color_spectrum(this_file_path)\n",
    "        auc_list.append(auc)\n",
    "        wavelength_list.append(wavelength)"
   ]
  },
  {
   "cell_type": "code",
   "execution_count": null,
   "metadata": {},
   "outputs": [],
   "source": [
    "if exp==\"choice\":\n",
    "    choice_mean_auc_list=mean_auc_list\n",
    "    auc_array_conditions=np.vstack(choice_mean_auc_list)\n",
    "else:\n",
    "    band_mean_auc_list=mean_auc_list\n",
    "    auc_array_conditions=np.vstack(band_mean_auc_list)"
   ]
  },
  {
   "cell_type": "code",
   "execution_count": null,
   "metadata": {},
   "outputs": [],
   "source": [
    "background=np.array(auc_list)\n",
    "background=background[0:16]"
   ]
  },
  {
   "cell_type": "code",
   "execution_count": null,
   "metadata": {},
   "outputs": [],
   "source": [
    "background2=np.array(auc_list)"
   ]
  },
  {
   "cell_type": "code",
   "execution_count": null,
   "metadata": {},
   "outputs": [],
   "source": [
    "m_contrast=abs(auc_array_conditions-background2)/(auc_array_conditions+background2)\n",
    "w_contrast=(auc_array_conditions-background2)/background2\n",
    "w_contrast_abs=abs(auc_array_conditions-background2)/background2"
   ]
  },
  {
   "cell_type": "code",
   "execution_count": null,
   "metadata": {},
   "outputs": [],
   "source": [
    "COL = MplColorHelper(colormap_name, 0, m_contrast.shape[0]-1)\n",
    "sm = cm.ScalarMappable(cmap=colormap_name)\n",
    "graph_colour_code=[\"r\",\"m\",\"y\",\"g\",\"c\",\"k\"]"
   ]
  },
  {
   "cell_type": "code",
   "execution_count": null,
   "metadata": {},
   "outputs": [],
   "source": [
    "## the function to calculate that is incorrect does not support data \n",
    "fig, ax1 = plt.subplots(\n",
    "    nrows=1, ncols=1, figsize=(8,8))\n",
    "for i in range(w_contrast.shape[0]):\n",
    "    if i==4:\n",
    "        continue## skip white\n",
    "    ax1.plot(w_contrast[i,:-1],color=graph_colour_code[i],label=folders[i], linestyle='--', marker='o',linewidth=1)\n",
    "ax1.legend(title='object category',prop={'size': 18},title_fontsize=16)\n",
    "ax1.set(\n",
    "    xticks=[0,3,6,9,12,15],\n",
    "    xticklabels=(['0','0.2','0.4','0.6','0.8','1.0']),\n",
    "    xlabel=('Background Decimal RGB values (x,x,x)'),\n",
    "    ylabel= ('Weber contrast (Object I - Background I)/Background I'),\n",
    "    yticks=[-0.2,0.0,0.2,0.4],\n",
    "    ylim=[-0.2,0.4])\n",
    "ax1.xaxis.label.set(fontsize=15)\n",
    "ax1.yaxis.label.set(fontsize=15)\n",
    "#ax1.yaxis.label.set(fontsize=20)\n",
    "#background1 suggest the 7th has closest contrast between black and gregarious"
   ]
  },
  {
   "cell_type": "code",
   "execution_count": null,
   "metadata": {},
   "outputs": [],
   "source": [
    "## the function to calculate that is incorrect does not support data \n",
    "fig, ax1 = plt.subplots(\n",
    "    nrows=1, ncols=1, figsize=(8,8))\n",
    "for i in range(w_contrast_abs.shape[0]):\n",
    "    if i==4:\n",
    "        continue## skip white\n",
    "    ax1.plot(w_contrast_abs[i,:-1],color=graph_colour_code[i],label=folders[i], linestyle='--', marker='o',linewidth=1)\n",
    "ax1.legend(title='object category',prop={'size': 18},title_fontsize=16)\n",
    "ax1.set(\n",
    "    xticks=[0,3,6,9,12,15],\n",
    "    xticklabels=(['0','0.2','0.4','0.6','0.8','1.0']),\n",
    "    xlabel=('Background Decimal RGB values (x,x,x)'),\n",
    "    ylabel= ('Weber contrast (Object I - Background I)/Background I'),\n",
    "    yticks=[0.0,0.2,0.4],\n",
    "    ylim=[-0.05,0.4])\n",
    "ax1.xaxis.label.set(fontsize=15)\n",
    "ax1.yaxis.label.set(fontsize=15)\n",
    "#ax1.yaxis.label.set(fontsize=20)\n",
    "#background1 suggest the 7th has closest contrast between black and gregarious"
   ]
  },
  {
   "cell_type": "code",
   "execution_count": null,
   "metadata": {},
   "outputs": [],
   "source": [
    "fig, ax1 = plt.subplots(\n",
    "    nrows=1, ncols=1, figsize=(8,8))\n",
    "for i in range(m_contrast.shape[0]):\n",
    "    ax1.plot(m_contrast[i,:-1],color=graph_colour_code[i],label=folders[i], linestyle='--', marker='o',linewidth=1)\n",
    "ax1.legend(title='object category',prop={'size': 18},title_fontsize=16)\n",
    "ax1.set(\n",
    "    xticks=[0,3,6,9,12,15],\n",
    "    xticklabels=(['0','0.2','0.4','0.6','0.8','1.0']),\n",
    "    xlabel=('Background Decimal RGB values (x,x,x)'),\n",
    "    ylabel= ('Michelson contrast (Max I - Min I)/(Max I + Min I)'),\n",
    "    yticks=[0.0,0.4,0.8],\n",
    "    ylim=[-0.05,0.8])\n",
    "ax1.xaxis.label.set(fontsize=15)\n",
    "ax1.yaxis.label.set(fontsize=15)\n",
    "#ax1.yaxis.label.set(fontsize=20)\n",
    "#background1 suggest the 7th has closest contrast between black and gregarious"
   ]
  },
  {
   "cell_type": "code",
   "execution_count": null,
   "metadata": {},
   "outputs": [],
   "source": [
    "#background  measurement\n",
    "plt.plot(np.arange(background.shape[0]),background)"
   ]
  }
 ],
 "metadata": {
  "kernelspec": {
   "display_name": "image_calib",
   "language": "python",
   "name": "python3"
  },
  "language_info": {
   "codemirror_mode": {
    "name": "ipython",
    "version": 3
   },
   "file_extension": ".py",
   "mimetype": "text/x-python",
   "name": "python",
   "nbconvert_exporter": "python",
   "pygments_lexer": "ipython3",
   "version": "3.10.4"
  }
 },
 "nbformat": 4,
 "nbformat_minor": 2
}
