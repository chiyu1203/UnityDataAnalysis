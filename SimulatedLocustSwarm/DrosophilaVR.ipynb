{
 "cells": [
  {
   "cell_type": "code",
   "execution_count": null,
   "metadata": {},
   "outputs": [],
   "source": [
    "import pandas as pd\n",
    "import gzip\n",
    "import matplotlib.pyplot as plt\n",
    "import numpy as np\n",
    "from matplotlib.animation import FuncAnimation\n",
    "from matplotlib.animation import PillowWriter\n",
    "from matplotlib.animation import FFMpegWriter\n",
    "from scipy.spatial.distance import cdist"
   ]
  },
  {
   "cell_type": "code",
   "execution_count": null,
   "metadata": {},
   "outputs": [],
   "source": [
    "# File paths\n",
    "file_path = '/Users/apaula/Nextcloud/locustVR/locustVR_data/20231113_150126/20231113_150126_Optomotor_VR3_.csv'\n",
    "\n",
    "# Load the locust data\n",
    "\n",
    "df = pd.read_csv(file_path)\n",
    "\n",
    "\n",
    "# Show first few rows of each dataframe\n",
    "df.head()"
   ]
  },
  {
   "cell_type": "code",
   "execution_count": null,
   "metadata": {},
   "outputs": [],
   "source": [
    "df_head = df.head(10000)\n",
    "print(df_head)\n"
   ]
  },
  {
   "cell_type": "code",
   "execution_count": null,
   "metadata": {},
   "outputs": [],
   "source": [
    "# Creating subplots for locust and sensor trajectories with corrected axes\n",
    "fig, axes = plt.subplots(1, 2, figsize=(18, 8))\n",
    "\n",
    "# Subplot for Transformed Locust Positions (InsectPosZ and InsectPosX)\n",
    "axes[0].scatter(df['SensPosZ'], df['SensPosX'], c=range(len(df)), cmap='viridis', s=5)\n",
    "axes[0].set_title('Transformed Locust Positions')\n",
    "axes[0].set_xlabel('Z Position')\n",
    "axes[0].set_ylabel('X Position')\n",
    "axes[0].axis('equal')\n",
    "axes[0].set_xlim(20, -20)\n",
    "axes[0].set_ylim(20, -20)\n",
    "axes[0].grid(True)\n",
    "\n",
    "# Subplot for Transformed Locust Positions (InsectPosZ and InsectPosX)\n",
    "axes[1].scatter(df['GameObjectPosX'], df['GameObjectPosY'], c=range(len(df)), cmap='viridis', s=5)\n",
    "axes[1].set_title('Transformed Locust Positions')\n",
    "axes[1].set_xlabel('Z Position')\n",
    "axes[1].set_ylabel('X Position')\n",
    "axes[1].axis('equal')\n",
    "axes[1].set_xlim(-500, -250)\n",
    "axes[1].set_ylim(-100, -350)\n",
    "axes[1].grid(True)\n",
    "\n",
    "# Adding colorbar and overall title\n",
    "fig.colorbar(plt.cm.ScalarMappable(cmap='viridis'), ax=axes.ravel().tolist(), label='Time Step')\n",
    "fig.suptitle('Transformed Locust and Sensor Trajectories')\n",
    "\n",
    "plt.show()\n"
   ]
  },
  {
   "cell_type": "code",
   "execution_count": null,
   "metadata": {},
   "outputs": [],
   "source": [
    "df_head = df.head(15000)\n",
    "\n",
    "time_index = range(len(df_head))\n",
    "\n",
    "# Creating subplots for locust and sensor rotation over time\n",
    "fig, axes = plt.subplots(1, 2, figsize=(18, 6))\n",
    "\n",
    "# Subplot for Locust Rotation (InsectRotY)\n",
    "axes[0].scatter(time_index, df_head['SensRotY'], c=df_head['CurrentStep'], cmap='coolwarm', label='Insect Rotation (Y-axis)')\n",
    "axes[0].set_title('Locust Rotation Over Time')\n",
    "axes[0].set_xlabel('Time Step')\n",
    "axes[0].set_ylabel('Rotation (degrees)')\n",
    "axes[0].grid(True)\n",
    "\n",
    "# Subplot for Sensor Rotation (SensRotY)\n",
    "axes[1].scatter(time_index, df_head['GameObjectRotY'], c=df_head['CurrentStep'], cmap='coolwarm', label='Sensor Rotation (Y-axis)')\n",
    "axes[1].set_title('Sensor Rotation Over Time')\n",
    "axes[1].set_xlabel('Time Step')\n",
    "axes[1].set_ylabel('Rotation (degrees)')\n",
    "axes[1].grid(True)\n",
    "\n",
    "# Adding overall title\n",
    "fig.suptitle('Locust and Sensor Rotation Over Time')\n",
    "\n",
    "plt.show()"
   ]
  },
  {
   "cell_type": "code",
   "execution_count": null,
   "metadata": {},
   "outputs": [],
   "source": [
    "# File paths\n",
    "file_path = '/Users/apaula/Nextcloud/locustVR/locustVR_data/20231113_150126/20231113_150126_Optomotor_GratingGenerator_.csv'\n",
    "\n",
    "# Load the locust data\n",
    "\n",
    "df_grating = pd.read_csv(file_path)"
   ]
  },
  {
   "cell_type": "code",
   "execution_count": null,
   "metadata": {},
   "outputs": [],
   "source": [
    "df_grating.head()"
   ]
  },
  {
   "cell_type": "code",
   "execution_count": null,
   "metadata": {},
   "outputs": [],
   "source": [
    "\n",
    "time_index = range(len(df_grating))\n",
    "\n",
    "# Creating subplots for grating rotation over time\n",
    "fig, axes = plt.subplots(1, 1, figsize=(18, 6))\n",
    "\n",
    "# Subplot for Grating Rotation (GratingRotY)\n",
    "axes.scatter(time_index, df_grating['GameObjectRotY'], label='Grating Rotation (Y-axis)')\n",
    "axes.scatter(time_index, df['GameObjectRotY'], label='Sensor Rotation (Y-axis)')\n",
    "axes.set_title('Grating Rotation Over Time')\n",
    "axes.set_xlabel('Time Step (60/second)')\n",
    "axes.set_ylabel('Rotation (degrees)')\n",
    "axes.grid(True)\n",
    "\n",
    "# Adding overall title\n",
    "fig.suptitle('Grating Rotation Over Time')\n",
    "\n",
    "plt.show()\n"
   ]
  },
  {
   "cell_type": "code",
   "execution_count": null,
   "metadata": {},
   "outputs": [],
   "source": [
    "df_grating['Current Time'][0]"
   ]
  },
  {
   "cell_type": "code",
   "execution_count": null,
   "metadata": {},
   "outputs": [],
   "source": [
    "df['Current Time'][7000]"
   ]
  },
  {
   "cell_type": "code",
   "execution_count": null,
   "metadata": {},
   "outputs": [],
   "source": [
    "!pip install plotly\n"
   ]
  },
  {
   "cell_type": "code",
   "execution_count": null,
   "metadata": {},
   "outputs": [],
   "source": [
    "import plotly.graph_objects as go\n",
    "import numpy as np\n",
    "\n",
    "# Convert your range object to a numpy array\n",
    "time_index = np.array(range(len(df_grating)))\n",
    "\n",
    "# Create a Plotly figure\n",
    "fig = go.Figure()\n",
    "\n",
    "# Add traces for Grating and Sensor Rotation on the Y-axis\n",
    "fig.add_trace(go.Scatter(x=time_index, y=df_grating['GameObjectRotY'], mode='markers', name='Grating Rotation'))\n",
    "fig.add_trace(go.Scatter(x=time_index, y=df['GameObjectRotY'], mode='markers', name='Animal Rotation'))\n",
    "\n",
    "# Update layout for a cleaner look\n",
    "fig.update_layout(\n",
    "    title='Optomotor Response',\n",
    "    xaxis_title='Time Step (60/second)',\n",
    "    yaxis_title='Rotation (degrees)',\n",
    "    legend_title='Legend',\n",
    "    template='plotly_dark' # You can change the template as per your preference\n",
    ")\n",
    "\n",
    "# Show the interactive plot\n",
    "fig.show()\n"
   ]
  },
  {
   "cell_type": "code",
   "execution_count": null,
   "metadata": {},
   "outputs": [],
   "source": [
    "fig.write_html('/Users/apaula/Downloads/optomotor.html')"
   ]
  },
  {
   "cell_type": "code",
   "execution_count": null,
   "metadata": {},
   "outputs": [],
   "source": [
    "\n"
   ]
  }
 ],
 "metadata": {
  "kernelspec": {
   "display_name": "transcriptome_env",
   "language": "python",
   "name": "python3"
  },
  "language_info": {
   "codemirror_mode": {
    "name": "ipython",
    "version": 3
   },
   "file_extension": ".py",
   "mimetype": "text/x-python",
   "name": "python",
   "nbconvert_exporter": "python",
   "pygments_lexer": "ipython3",
   "version": "3.10.12"
  }
 },
 "nbformat": 4,
 "nbformat_minor": 2
}
